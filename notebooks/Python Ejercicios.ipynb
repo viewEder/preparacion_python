{
 "cells": [
  {
   "cell_type": "markdown",
   "id": "13b7c51e",
   "metadata": {},
   "source": [
    "# Ejercicios - Básico"
   ]
  },
  {
   "cell_type": "markdown",
   "id": "cdc748bc",
   "metadata": {},
   "source": [
    "1. Escribir un programa que solicite información básica"
   ]
  },
  {
   "cell_type": "code",
   "execution_count": 4,
   "id": "0d0d82b8",
   "metadata": {},
   "outputs": [
    {
     "name": "stdout",
     "output_type": "stream",
     "text": [
      "Ingrese si nombre y apellido\n",
      "Sebastian Mesa\n",
      "Ingrese su tipo de documento:\n",
      "Cedula\n",
      "Ingrese su Cedula:\n",
      "34525634\n",
      "Nombre: Sebastian \n",
      "Apellido: Mesa \n",
      "Documento: Cedula 34525634\n"
     ]
    }
   ],
   "source": [
    "nombre, apellido = input('Ingrese si nombre y apellido\\n').split()\n",
    "tipo_documento = input('Ingrese su tipo de documento:\\n')\n",
    "documento = input(f'Ingrese su {tipo_documento}:\\n')\n",
    "\n",
    "print(f'Nombre: {nombre} \\nApellido: {apellido} \\nDocumento: {tipo_documento} {documento}')\n"
   ]
  },
  {
   "cell_type": "markdown",
   "id": "db723cd6",
   "metadata": {},
   "source": [
    "2. Escribir un script que captura la altura y el peso de una persona y calcule el IMC"
   ]
  },
  {
   "cell_type": "code",
   "execution_count": 10,
   "id": "57fd5e13",
   "metadata": {},
   "outputs": [
    {
     "name": "stdout",
     "output_type": "stream",
     "text": [
      "Ingrese su altura: 1.75\n",
      "Ingrese su peso: 70\n",
      "Su imc es 22.857142857142858\n"
     ]
    }
   ],
   "source": [
    "altura = float(input('Ingrese su altura: '))\n",
    "peso = float(input('Ingrese su peso: '))\n",
    "\n",
    "imc = peso/(altura**2)\n",
    "\n",
    "print(f'Su imc es {imc}')"
   ]
  },
  {
   "cell_type": "markdown",
   "id": "5c1a2394",
   "metadata": {},
   "source": [
    "3. Escribir una rutina que lea un número entero positivo (Evaluar que sea asi), nume; y muestre la suma de los numeros desde el 1 hasta nume para ellos tenga en cuenta que podemos sumar los numeros positivos hasta un limite usando la siguiente formula: (n(n+1)/2)"
   ]
  },
  {
   "cell_type": "code",
   "execution_count": 26,
   "id": "24e32b4e",
   "metadata": {},
   "outputs": [],
   "source": [
    "def sumatoria(nume):\n",
    "    nume = (nume*(nume+1))/2 if nume>=0 else 'Solo positivos' \n",
    "    return nume\n",
    "\n"
   ]
  },
  {
   "cell_type": "code",
   "execution_count": 28,
   "id": "86e127f7",
   "metadata": {},
   "outputs": [
    {
     "name": "stdout",
     "output_type": "stream",
     "text": [
      "55.0\n"
     ]
    }
   ],
   "source": [
    "print(sumatoria(10)) # Prueba"
   ]
  },
  {
   "cell_type": "markdown",
   "id": "a2bf9488",
   "metadata": {},
   "source": [
    "4. Escribir un programa que captura la información de las horas trabajadas por un usuario y el costo de cada una de estas, mostrar en pantalla un informe con el nombre del usuario, las horas y el valor pagado"
   ]
  },
  {
   "cell_type": "code",
   "execution_count": 63,
   "id": "57a966db",
   "metadata": {},
   "outputs": [],
   "source": [
    "class Trabajo:\n",
    "    def __init__(self, nombre, horas_trabajadas, costo_hora):\n",
    "        self.nombre = nombre\n",
    "        self.horas_trabajadas = horas_trabajadas\n",
    "        self.costo_hora = costo_hora \n",
    "    \n",
    "    def valorPagado(self):\n",
    "        self.valor_pagado = self.horas_trabajadas*self.costo_hora\n",
    "    \n",
    "    def informe(self):\n",
    "        self.valorPagado()\n",
    "        return f' Nombre\\t\\t Horas Trabajadas\\t Valor Pagado\\t\\t\\n {self.nombre} \\t\\t {self.horas_trabajadas} \\t\\t\\t {self.valor_pagado} \\n'\n",
    "        "
   ]
  },
  {
   "cell_type": "code",
   "execution_count": 64,
   "id": "1996a94b",
   "metadata": {},
   "outputs": [
    {
     "name": "stdout",
     "output_type": "stream",
     "text": [
      " Nombre\t\t Horas Trabajadas\t Valor Pagado\t\t\n",
      " Eder \t\t 30 \t\t\t 3000000 \n",
      "\n"
     ]
    }
   ],
   "source": [
    "eder = Trabajo(nombre='Eder', horas_trabajadas=30, costo_hora=100000)\n",
    "print(eder.informe())"
   ]
  },
  {
   "cell_type": "markdown",
   "id": "98428089",
   "metadata": {},
   "source": [
    "5. Dadas las variables a y b, escribir un script que sea capaz de invertir sus valores. (1, 2), (2, 1)"
   ]
  },
  {
   "cell_type": "code",
   "execution_count": 7,
   "id": "d043cbf6",
   "metadata": {},
   "outputs": [
    {
     "name": "stdout",
     "output_type": "stream",
     "text": [
      "1\n",
      "b\n",
      "b 1\n"
     ]
    }
   ],
   "source": [
    "a = input()\n",
    "b = input()\n",
    "\n",
    "temp = a\n",
    "a = b\n",
    "b = temp\n",
    "\n",
    "print(a, b)"
   ]
  },
  {
   "cell_type": "code",
   "execution_count": 15,
   "id": "08926135",
   "metadata": {},
   "outputs": [],
   "source": [
    "mi_lista = [2,4,2,8,3,4,8,7,0,2,0,5]"
   ]
  },
  {
   "cell_type": "code",
   "execution_count": 16,
   "id": "43a3eb91",
   "metadata": {},
   "outputs": [
    {
     "name": "stdout",
     "output_type": "stream",
     "text": [
      "2, 2, 3, 8, 0, 0, "
     ]
    }
   ],
   "source": [
    "for i in range(0, len(mi_lista), 2):\n",
    "    print(mi_lista[i], end=', ')"
   ]
  },
  {
   "cell_type": "code",
   "execution_count": 17,
   "id": "d9da04b7",
   "metadata": {},
   "outputs": [
    {
     "name": "stdout",
     "output_type": "stream",
     "text": [
      "[2, 2, 3, 8, 0, 0]\n"
     ]
    }
   ],
   "source": [
    "lista = mi_lista[::2]\n",
    "print(lista)"
   ]
  },
  {
   "cell_type": "code",
   "execution_count": 33,
   "id": "3baa06b4",
   "metadata": {},
   "outputs": [
    {
     "name": "stdout",
     "output_type": "stream",
     "text": [
      "40\n",
      "0\n",
      "[100, 98, 96, 94, 92, 90, 88, 86, 84, 82, 80, 78, 76, 74, 72, 70, 68, 66, 64, 62, 60, 58, 56, 54, 52, 50, 48, 46, 44, 42, 40, 38, 36, 34, 32, 30, 28, 26, 24, 22, 20, 18, 16, 14, 12, 10, 8, 6, 4, 2, 0]\n"
     ]
    }
   ],
   "source": [
    "# Colecciones:\n",
    "# Listas:\n",
    "list_numbers = list(range(0,100,2))\n",
    "list_numbers.append(100)\n",
    "list_numbers.insert(40, 25)\n",
    "print(list_numbers.index(25))\n",
    "list_numbers.pop(40)\n",
    "print(list_numbers.count(25))\n",
    "list_numbers.sort(reverse=True) # Lo mismo que list_numbers.reverse()\n",
    "print(list_numbers)\n",
    "list_odd = list(range(1,100,2))\n",
    "\n"
   ]
  },
  {
   "cell_type": "markdown",
   "id": "399f0b9a",
   "metadata": {},
   "source": [
    "6. Dada una lista con números positivos y negativos, ordenar los positivos y dejar los negativos"
   ]
  },
  {
   "cell_type": "code",
   "execution_count": 45,
   "id": "b6c90942",
   "metadata": {},
   "outputs": [
    {
     "name": "stdout",
     "output_type": "stream",
     "text": [
      "[-12, -5, 4, 2, 0, -4, -2, -2, -2, -2, 8]\n"
     ]
    }
   ],
   "source": [
    "other_list = [-12,-5, 4 ,2, 0, -4,-2,8,-2,2-4,-2]\n",
    "new_list = list()\n",
    "for element in other_list:\n",
    "    if element>=0:\n",
    "        new_list.append(element)\n",
    "    else:\n",
    "        posicion = other_list.index(element)\n",
    "        new_list.insert(posicion, element)\n",
    "\n",
    "print(new_list)"
   ]
  },
  {
   "cell_type": "code",
   "execution_count": null,
   "id": "2b3d1d21",
   "metadata": {},
   "outputs": [],
   "source": [
    "new_list = sorted(other_list, key=lambda x: x if x>=0 else continue)\n"
   ]
  },
  {
   "cell_type": "code",
   "execution_count": 46,
   "id": "4761e775",
   "metadata": {},
   "outputs": [
    {
     "name": "stdout",
     "output_type": "stream",
     "text": [
      "[0, 2, 4, 8]\n"
     ]
    }
   ],
   "source": [
    "positives = sorted(x for x in other_list if x >= 0)\n",
    "print(positives)"
   ]
  },
  {
   "cell_type": "code",
   "execution_count": 53,
   "id": "4081e347",
   "metadata": {},
   "outputs": [
    {
     "name": "stdout",
     "output_type": "stream",
     "text": [
      "{0: -12, 1: -5, 2: 4, 3: 2, 4: 3, 5: -4, 6: -2, 7: 8, 8: -2, 9: 2, 10: -4, 11: 2}\n",
      "[-12, -5, 2, 2, 2, -4, -2, 3, -2, 4, -4, 8]\n"
     ]
    }
   ],
   "source": [
    "other_list = [-12,-5, 4 ,2, 3, -4,-2,8,-2, 2, -4,2]\n",
    "\n",
    " \n",
    "\n",
    "def ordena_positivos(lst):\n",
    "\n",
    "    positivos = sorted([i for i in lst if i >= 0], reverse=True)\n",
    "    print(dict(enumerate(lst)))\n",
    "\n",
    "    for i, elem in enumerate(lst):\n",
    "\n",
    "        if elem >= 0:\n",
    "\n",
    "            lst[i] = positivos.pop()\n",
    "\n",
    "    return lst\n",
    "\n",
    " \n",
    "\n",
    "print(ordena_positivos(other_list))"
   ]
  },
  {
   "cell_type": "markdown",
   "id": "1afcb24f",
   "metadata": {},
   "source": [
    "Enumerate() trae una tupla (indice, valor)"
   ]
  },
  {
   "cell_type": "markdown",
   "id": "25543281",
   "metadata": {},
   "source": [
    "7. Escribe un programa que reciba como entrada (por teclado) una secuencia de palabras separadas por espacios en blanco e imprima las palabras ordenadas alfanuméricamente, en mayúsculas y después de haber eliminado todas las duplicadas."
   ]
  },
  {
   "cell_type": "markdown",
   "id": "4935e203",
   "metadata": {},
   "source": [
    "Hay que usar sets, sorted y split"
   ]
  },
  {
   "cell_type": "code",
   "execution_count": 77,
   "id": "a542d5f3",
   "metadata": {},
   "outputs": [
    {
     "name": "stdout",
     "output_type": "stream",
     "text": [
      "if con continueif con continueif con continueif con continueif con continueif con continueif con continuea aa bb c d v c ba aa bb c d v c ba aa bb c d v c ba aa bb c d v c ba aa bb c d v c ba aa bb c d v c ba aa bb c d v c ba aa bb c d v c b\n",
      "['AA', 'B', 'BA', 'BB', 'C', 'CON', 'CONTINUEA', 'CONTINUEIF', 'D', 'IF', 'V']\n"
     ]
    }
   ],
   "source": [
    "print(sorted(set(input().upper().split())))"
   ]
  },
  {
   "cell_type": "markdown",
   "id": "1d74e0fc",
   "metadata": {},
   "source": [
    "Palindromo"
   ]
  },
  {
   "cell_type": "code",
   "execution_count": 87,
   "id": "d98bbaec",
   "metadata": {},
   "outputs": [
    {
     "name": "stdout",
     "output_type": "stream",
     "text": [
      "Ingrese la palabra: fes fds fd scsd dc \n"
     ]
    },
    {
     "data": {
      "text/plain": [
       "['f', 'e', 's', 'f', 'd', 's', 'f', 'd', 's', 'c', 's', 'd', 'd', 'c']"
      ]
     },
     "execution_count": 87,
     "metadata": {},
     "output_type": "execute_result"
    }
   ],
   "source": [
    "entrada = input('Ingrese la palabra: ')\n",
    "proceso = [i for i in entrada if i!=' ']\n",
    "proceso\n"
   ]
  }
 ],
 "metadata": {
  "kernelspec": {
   "display_name": "Python 3 (ipykernel)",
   "language": "python",
   "name": "python3"
  },
  "language_info": {
   "codemirror_mode": {
    "name": "ipython",
    "version": 3
   },
   "file_extension": ".py",
   "mimetype": "text/x-python",
   "name": "python",
   "nbconvert_exporter": "python",
   "pygments_lexer": "ipython3",
   "version": "3.11.4"
  }
 },
 "nbformat": 4,
 "nbformat_minor": 5
}

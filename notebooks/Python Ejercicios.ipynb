{
 "cells": [
  {
   "cell_type": "markdown",
   "id": "13b7c51e",
   "metadata": {},
   "source": [
    "# Ejercicios - Básico"
   ]
  },
  {
   "cell_type": "markdown",
   "id": "cdc748bc",
   "metadata": {},
   "source": [
    "1. Escribir un programa que solicite información básica"
   ]
  },
  {
   "cell_type": "code",
   "execution_count": 4,
   "id": "9bf22516",
   "metadata": {},
   "outputs": [
    {
     "name": "stdout",
     "output_type": "stream",
     "text": [
      "Ingrese si nombre y apellido\n",
      "Sebastian Mesa\n",
      "Ingrese su tipo de documento:\n",
      "Cedula\n",
      "Ingrese su Cedula:\n",
      "34525634\n",
      "Nombre: Sebastian \n",
      "Apellido: Mesa \n",
      "Documento: Cedula 34525634\n"
     ]
    }
   ],
   "source": [
    "nombre, apellido = input('Ingrese si nombre y apellido\\n').split()\n",
    "tipo_documento = input('Ingrese su tipo de documento:\\n')\n",
    "documento = input(f'Ingrese su {tipo_documento}:\\n')\n",
    "\n",
    "print(f'Nombre: {nombre} \\nApellido: {apellido} \\nDocumento: {tipo_documento} {documento}')\n"
   ]
  },
  {
   "cell_type": "markdown",
   "id": "134b0206",
   "metadata": {},
   "source": [
    "2. Escribir un script que captura la altura y el peso de una persona y calcule el IMC"
   ]
  },
  {
   "cell_type": "code",
   "execution_count": 10,
   "id": "ad320d85",
   "metadata": {},
   "outputs": [
    {
     "name": "stdout",
     "output_type": "stream",
     "text": [
      "Ingrese su altura: 1.75\n",
      "Ingrese su peso: 70\n",
      "Su imc es 22.857142857142858\n"
     ]
    }
   ],
   "source": [
    "altura = float(input('Ingrese su altura: '))\n",
    "peso = float(input('Ingrese su peso: '))\n",
    "\n",
    "imc = peso/(altura**2)\n",
    "\n",
    "print(f'Su imc es {imc}')"
   ]
  },
  {
   "cell_type": "markdown",
   "id": "9a0556e4",
   "metadata": {},
   "source": [
    "3. Escribir una rutina que lea un número entero positivo (Evaluar que sea asi), nume; y muestre la suma de los numeros desde el 1 hasta nume para ellos tenga en cuenta que podemos sumar los numeros positivos hasta un limite usando la siguiente formula: (n(n+1)/2)"
   ]
  },
  {
   "cell_type": "code",
   "execution_count": 15,
   "id": "4a0ab34c",
   "metadata": {},
   "outputs": [],
   "source": [
    "def sumatoria(i):\n",
    "    i = in\n",
    "    return (i(i+1))/2\n",
    "\n"
   ]
  },
  {
   "cell_type": "code",
   "execution_count": 16,
   "id": "08c2836a",
   "metadata": {},
   "outputs": [
    {
     "ename": "TypeError",
     "evalue": "'int' object is not callable",
     "output_type": "error",
     "traceback": [
      "\u001b[1;31m---------------------------------------------------------------------------\u001b[0m",
      "\u001b[1;31mTypeError\u001b[0m                                 Traceback (most recent call last)",
      "Cell \u001b[1;32mIn[16], line 1\u001b[0m\n\u001b[1;32m----> 1\u001b[0m \u001b[38;5;28mprint\u001b[39m(sumatoria(\u001b[38;5;241m10\u001b[39m))\n",
      "Cell \u001b[1;32mIn[15], line 2\u001b[0m, in \u001b[0;36msumatoria\u001b[1;34m(i)\u001b[0m\n\u001b[0;32m      1\u001b[0m \u001b[38;5;28;01mdef\u001b[39;00m \u001b[38;5;21msumatoria\u001b[39m(i):\n\u001b[1;32m----> 2\u001b[0m     \u001b[38;5;28;01mreturn\u001b[39;00m (i(i\u001b[38;5;241m+\u001b[39m\u001b[38;5;241m1\u001b[39m))\u001b[38;5;241m/\u001b[39m\u001b[38;5;241m2\u001b[39m\n",
      "\u001b[1;31mTypeError\u001b[0m: 'int' object is not callable"
     ]
    }
   ],
   "source": [
    "print(sumatoria(10)) # Prueba"
   ]
  }
 ],
 "metadata": {
  "kernelspec": {
   "display_name": "Python 3 (ipykernel)",
   "language": "python",
   "name": "python3"
  },
  "language_info": {
   "codemirror_mode": {
    "name": "ipython",
    "version": 3
   },
   "file_extension": ".py",
   "mimetype": "text/x-python",
   "name": "python",
   "nbconvert_exporter": "python",
   "pygments_lexer": "ipython3",
   "version": "3.11.4"
  }
 },
 "nbformat": 4,
 "nbformat_minor": 5
}

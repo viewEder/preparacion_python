{
 "cells": [
  {
   "cell_type": "markdown",
   "id": "13b7c51e",
   "metadata": {},
   "source": [
    "# Ejercicios - Básico"
   ]
  },
  {
   "cell_type": "markdown",
   "id": "cdc748bc",
   "metadata": {},
   "source": [
    "1. Escribir un programa que solicite información básica"
   ]
  },
  {
   "cell_type": "code",
   "execution_count": 2,
   "id": "e4cfb65e",
   "metadata": {},
   "outputs": [
    {
     "name": "stdout",
     "output_type": "stream",
     "text": [
      "Ingrese si nombre y apellido\n",
      "Sebastian Mesa\n",
      "Ingrese su tipo de documento:\n",
      "Cedula\n",
      "Ingrese su Cedula:\n",
      "1023623651\n",
      "Nombre: Sebastian \n",
      "Apellido: Mesa \n",
      "Documento: Cedula 1023623651\n"
     ]
    }
   ],
   "source": [
    "nombre, apellido = input('Ingrese si nombre y apellido\\n').split()\n",
    "tipo_documento = input('Ingrese su tipo de documento:\\n')\n",
    "documento = input(f'Ingrese su {tipo_documento}:\\n')\n",
    "\n",
    "print(f'Nombre: {nombre} \\nApellido: {apellido} \\nDocumento: {tipo_documento} {documento}')\n"
   ]
  },
  {
   "cell_type": "markdown",
   "id": "32e229f5",
   "metadata": {},
   "source": [
    "2. Escribir un script que captura la altura y el peso de una persona y calcule el IMC"
   ]
  },
  {
   "cell_type": "code",
   "execution_count": null,
   "id": "9f6d2fd4",
   "metadata": {},
   "outputs": [],
   "source": [
    "altura = int(input('Ingrese su altura'))\n",
    "peso = int(input('Ingrese su peso'))\n",
    "\n"
   ]
  },
  {
   "cell_type": "markdown",
   "id": "b42172f1",
   "metadata": {},
   "source": [
    "3. Escribir una rutina que lea un número entero positivo (Evaluar que sea asi), nume; y muestre la suma de los numeros desde el 1 hasta nume para ellos tenga en cuenta que podemos sumar los numeros positivos hasta un limite usando la siguiente formula: (n(n+1)/2)"
   ]
  },
  {
   "cell_type": "code",
   "execution_count": null,
   "id": "ecfeed5b",
   "metadata": {},
   "outputs": [],
   "source": []
  },
  {
   "cell_type": "code",
   "execution_count": null,
   "id": "01ca1113",
   "metadata": {},
   "outputs": [],
   "source": []
  }
 ],
 "metadata": {
  "kernelspec": {
   "display_name": "Python 3 (ipykernel)",
   "language": "python",
   "name": "python3"
  },
  "language_info": {
   "codemirror_mode": {
    "name": "ipython",
    "version": 3
   },
   "file_extension": ".py",
   "mimetype": "text/x-python",
   "name": "python",
   "nbconvert_exporter": "python",
   "pygments_lexer": "ipython3",
   "version": "3.11.4"
  }
 },
 "nbformat": 4,
 "nbformat_minor": 5
}

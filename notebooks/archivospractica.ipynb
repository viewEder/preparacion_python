{
 "cells": [
  {
   "cell_type": "code",
   "execution_count": 1,
   "metadata": {},
   "outputs": [],
   "source": [
    "## Se almacena un texto en una variable.\n",
    "txt = '''R is a programming language and software environment for statistical computing \n",
    "and graphics supported by the R Foundation for Statistical Computing.[3] The R language \n",
    "is widely used among statisticians and data miners for developing statistical software[4] \n",
    "and data analysis.[5] Polls, surveys of data miners, and studies of scholarly literature \n",
    "databases show that R's popularity has increased substantially in recent years.[6]\n",
    "'''"
   ]
  },
  {
   "cell_type": "code",
   "execution_count": 2,
   "metadata": {},
   "outputs": [
    {
     "name": "stdout",
     "output_type": "stream",
     "text": [
      "R is a programming language and software environment for statistical computing \n",
      "and graphics supported by the R Foundation for Statistical Computing.[3] The R language \n",
      "is widely used among statisticians and data miners for developing statistical software[4] \n",
      "and data analysis.[5] Polls, surveys of data miners, and studies of scholarly literature \n",
      "databases show that R's popularity has increased substantially in recent years.[6]\n",
      "\n"
     ]
    }
   ],
   "source": [
    "print(txt)"
   ]
  },
  {
   "cell_type": "code",
   "execution_count": 5,
   "metadata": {},
   "outputs": [
    {
     "data": {
      "text/plain": [
       "433"
      ]
     },
     "execution_count": 5,
     "metadata": {},
     "output_type": "execute_result"
    }
   ],
   "source": [
    "open('files/wiki.txt', 'w').write(txt)"
   ]
  },
  {
   "cell_type": "code",
   "execution_count": 8,
   "metadata": {},
   "outputs": [
    {
     "data": {
      "text/plain": [
       "\"R is a programming language and software environment for statistical computing \\nand graphics supported by the R Foundation for Statistical Computing.[3] The R language \\nis widely used among statisticians and data miners for developing statistical software[4] \\nand data analysis.[5] Polls, surveys of data miners, and studies of scholarly literature \\ndatabases show that R's popularity has increased substantially in recent years.[6]\\n\""
      ]
     },
     "execution_count": 8,
     "metadata": {},
     "output_type": "execute_result"
    }
   ],
   "source": [
    "open('files/wiki.txt', 'r').read()"
   ]
  },
  {
   "cell_type": "code",
   "execution_count": 7,
   "metadata": {},
   "outputs": [
    {
     "name": "stdout",
     "output_type": "stream",
     "text": [
      "R is a programming language and software environment for statistical computing \n",
      "and graphics supported by the R Foundation for Statistical Computing.[3] The R language \n",
      "is widely used among statisticians and data miners for developing statistical software[4] \n",
      "and data analysis.[5] Polls, surveys of data miners, and studies of scholarly literature \n",
      "databases show that R's popularity has increased substantially in recent years.[6]\n",
      "\n"
     ]
    }
   ],
   "source": [
    "y = open('files/wiki.txt', 'r').read()\n",
    "print(y)"
   ]
  },
  {
   "cell_type": "code",
   "execution_count": 16,
   "metadata": {},
   "outputs": [],
   "source": [
    "#\n",
    "f = open('files/out.1', 'w')\n",
    "print(\"linea1 \",\"linea 2\", \"linea3\", sep='\\n', file= f )\n",
    "print(\"linea4\", file=f)\n",
    "print(\"linea 5\", file=f)\n",
    "print(\"linea 6\", file=f)\n",
    "#\n",
    "f.write('linea 7')\n",
    "#\n",
    "f.close()"
   ]
  },
  {
   "cell_type": "code",
   "execution_count": 18,
   "metadata": {},
   "outputs": [
    {
     "data": {
      "text/plain": [
       "'linea1 \\nlinea 2\\nlinea3\\nlinea4\\nlinea 5\\nlinea 6\\nlinea 7'"
      ]
     },
     "execution_count": 18,
     "metadata": {},
     "output_type": "execute_result"
    }
   ],
   "source": [
    "open('files/out.1', 'r').read()\n",
    "\n"
   ]
  },
  {
   "cell_type": "code",
   "execution_count": 17,
   "metadata": {},
   "outputs": [
    {
     "name": "stdout",
     "output_type": "stream",
     "text": [
      "linea1 \n",
      "linea 2\n",
      "linea3\n",
      "linea4\n",
      "linea 5\n",
      "linea 6\n",
      "linea 7\n"
     ]
    }
   ],
   "source": [
    "print(open('files/out.1', 'r').read())"
   ]
  },
  {
   "cell_type": "code",
   "execution_count": 20,
   "metadata": {},
   "outputs": [
    {
     "name": "stdout",
     "output_type": "stream",
     "text": [
      "linea1 \n",
      "linea 2\n",
      "linea3\n",
      "linea4\n",
      "linea 5\n",
      "linea 6\n",
      "linea 7\n",
      "el final"
     ]
    }
   ],
   "source": [
    "with open('files/out.1','r') as f:\n",
    "    print(f.read(), end='\\nel final')"
   ]
  },
  {
   "cell_type": "code",
   "execution_count": 23,
   "metadata": {},
   "outputs": [
    {
     "name": "stdout",
     "output_type": "stream",
     "text": [
      "0\n",
      "el final"
     ]
    }
   ],
   "source": [
    "with open('files/out.1','w') as f:\n",
    "    print(f.write(''), end='\\nel final')"
   ]
  },
  {
   "cell_type": "code",
   "execution_count": 25,
   "metadata": {},
   "outputs": [
    {
     "data": {
      "text/plain": [
       "['linea1 \\n',\n",
       " 'linea 2\\n',\n",
       " 'linea3\\n',\n",
       " 'linea4\\n',\n",
       " 'linea 5\\n',\n",
       " 'linea 6\\n',\n",
       " 'linea 7']"
      ]
     },
     "execution_count": 25,
     "metadata": {},
     "output_type": "execute_result"
    }
   ],
   "source": [
    "f = open('out.1', 'r')\n",
    "x = list(f)\n",
    "f.close()\n",
    "x "
   ]
  },
  {
   "cell_type": "code",
   "execution_count": 26,
   "metadata": {},
   "outputs": [
    {
     "data": {
      "text/plain": [
       "'linea 2\\n'"
      ]
     },
     "execution_count": 26,
     "metadata": {},
     "output_type": "execute_result"
    }
   ],
   "source": [
    "f = open('out.1', 'r')\n",
    "f.readline()\n",
    "f.readline()\n"
   ]
  },
  {
   "cell_type": "code",
   "execution_count": 27,
   "metadata": {},
   "outputs": [
    {
     "data": {
      "text/plain": [
       "'linea3\\n'"
      ]
     },
     "execution_count": 27,
     "metadata": {},
     "output_type": "execute_result"
    }
   ],
   "source": [
    "f.readline()\n"
   ]
  },
  {
   "cell_type": "code",
   "execution_count": 28,
   "metadata": {},
   "outputs": [],
   "source": [
    "f.close()"
   ]
  },
  {
   "cell_type": "code",
   "execution_count": 29,
   "metadata": {},
   "outputs": [
    {
     "name": "stdout",
     "output_type": "stream",
     "text": [
      "soy la linea 1: linea1 \n",
      "soy la linea 1: linea 2\n",
      "soy la linea 1: linea3\n",
      "soy la linea 1: linea4\n",
      "soy la linea 1: linea 5\n",
      "soy la linea 1: linea 6\n",
      "soy la linea 1: linea 7"
     ]
    }
   ],
   "source": [
    "f = open('out.1', 'r')\n",
    "\n",
    "for line in f:\n",
    "    print(f'soy la linea 1: {line}', end='')\n",
    "f.close()"
   ]
  },
  {
   "cell_type": "code",
   "execution_count": 38,
   "metadata": {},
   "outputs": [
    {
     "data": {
      "text/plain": [
       "[['index', 'name', 'value'],\n",
       " [1, 'A', 3.03],\n",
       " [2, 'B', 5.14],\n",
       " [3, 'C', 0.4],\n",
       " [4, 'D', 1.13],\n",
       " [5, 'E', 8.25]]"
      ]
     },
     "execution_count": 38,
     "metadata": {},
     "output_type": "execute_result"
    }
   ],
   "source": [
    "df = [[\"index\", \"name\", \"value\"],\n",
    "      [1, \"A\", 3.03],\n",
    "      [2, \"B\", 5.14],\n",
    "      [3, \"C\", 0.40],\n",
    "      [4, \"D\", 1.13],\n",
    "      [5, \"E\", 8.25]]\n",
    "df\n"
   ]
  },
  {
   "cell_type": "code",
   "execution_count": 39,
   "metadata": {},
   "outputs": [],
   "source": [
    "import csv\n",
    "with open('files/data.txt', 'w') as f:\n",
    "    x = csv.writer(f, delimiter=' ', quoting=csv.QUOTE_NONNUMERIC)\n",
    "    for r in df:\n",
    "        x.writerow(r)"
   ]
  },
  {
   "cell_type": "code",
   "execution_count": 40,
   "metadata": {},
   "outputs": [
    {
     "name": "stdout",
     "output_type": "stream",
     "text": [
      "\"index\" \"name\" \"value\"\n",
      "\n",
      "1 \"A\" 3.03\n",
      "\n",
      "2 \"B\" 5.14\n",
      "\n",
      "3 \"C\" 0.4\n",
      "\n",
      "4 \"D\" 1.13\n",
      "\n",
      "5 \"E\" 8.25\n",
      "\n",
      "\n"
     ]
    }
   ],
   "source": [
    "\n",
    "print(open('files/data.txt', 'r').read())"
   ]
  },
  {
   "cell_type": "code",
   "execution_count": 41,
   "metadata": {},
   "outputs": [
    {
     "data": {
      "text/plain": [
       "'\"index\" \"name\" \"value\"\\n\\n1 \"A\" 3.03\\n\\n2 \"B\" 5.14\\n\\n3 \"C\" 0.4\\n\\n4 \"D\" 1.13\\n\\n5 \"E\" 8.25\\n\\n'"
      ]
     },
     "execution_count": 41,
     "metadata": {},
     "output_type": "execute_result"
    }
   ],
   "source": [
    "## Lee el archivo como una tabla de texto\n",
    "with open('files/data.txt', 'r') as f:  \n",
    "    x = csv.reader(f, \n",
    "                    delimiter=' ', \n",
    "                    quoting=csv.QUOTE_NONNUMERIC) \n",
    "\n",
    "## verifica el archivo creado\n",
    "open('files/data.txt', 'r').read()"
   ]
  },
  {
   "cell_type": "code",
   "execution_count": 42,
   "metadata": {},
   "outputs": [
    {
     "name": "stdout",
     "output_type": "stream",
     "text": [
      "\"index\" \"name\" \"value\"\n",
      "\n",
      "1 \"A\" 3.03\n",
      "\n",
      "2 \"B\" 5.14\n",
      "\n",
      "3 \"C\" 0.4\n",
      "\n",
      "4 \"D\" 1.13\n",
      "\n",
      "5 \"E\" 8.25\n",
      "\n",
      "\n"
     ]
    }
   ],
   "source": [
    "print(open('files/data.txt', 'r').read())\n"
   ]
  },
  {
   "cell_type": "code",
   "execution_count": 43,
   "metadata": {},
   "outputs": [],
   "source": [
    "with open('files/data.csv', 'w') as f:  \n",
    "    x = csv.writer(f, \n",
    "                    delimiter=',', \n",
    "                    quoting=csv.QUOTE_NONNUMERIC)\n",
    "    for r in df:\n",
    "        x.writerow(r)"
   ]
  },
  {
   "cell_type": "code",
   "execution_count": 44,
   "metadata": {},
   "outputs": [
    {
     "name": "stdout",
     "output_type": "stream",
     "text": [
      "\"index\",\"name\",\"value\"\n",
      "\n",
      "1,\"A\",3.03\n",
      "\n",
      "2,\"B\",5.14\n",
      "\n",
      "3,\"C\",0.4\n",
      "\n",
      "4,\"D\",1.13\n",
      "\n",
      "5,\"E\",8.25\n",
      "\n",
      "\n"
     ]
    }
   ],
   "source": [
    "print(open('files/data.csv', 'r').read())"
   ]
  },
  {
   "cell_type": "code",
   "execution_count": 45,
   "metadata": {},
   "outputs": [
    {
     "name": "stdout",
     "output_type": "stream",
     "text": [
      "['index', 'name', 'value']\n",
      "[]\n",
      "[1.0, 'A', 3.03]\n",
      "[]\n",
      "[2.0, 'B', 5.14]\n",
      "[]\n",
      "[3.0, 'C', 0.4]\n",
      "[]\n",
      "[4.0, 'D', 1.13]\n",
      "[]\n",
      "[5.0, 'E', 8.25]\n",
      "[]\n"
     ]
    }
   ],
   "source": [
    "with open('files/data.csv', 'r') as f:  \n",
    "    x = csv.reader(f, \n",
    "                    delimiter=',', \n",
    "                    quoting=csv.QUOTE_NONNUMERIC)\n",
    "    for r in x:\n",
    "        print(r)"
   ]
  },
  {
   "cell_type": "code",
   "execution_count": 46,
   "metadata": {},
   "outputs": [
    {
     "data": {
      "text/plain": [
       "'[[\"index\", \"name\", \"value\"], [1, \"A\", 3.03], [2, \"B\", 5.14], [3, \"C\", 0.4], [4, \"D\", 1.13], [5, \"E\", 8.25]]'"
      ]
     },
     "execution_count": 46,
     "metadata": {},
     "output_type": "execute_result"
    }
   ],
   "source": [
    "import json\n",
    "\n",
    "json.dumps(df)"
   ]
  },
  {
   "cell_type": "code",
   "execution_count": 48,
   "metadata": {},
   "outputs": [
    {
     "name": "stdout",
     "output_type": "stream",
     "text": [
      "[\n",
      "    [\n",
      "        \"index\",\n",
      "        \"name\",\n",
      "        \"value\"\n",
      "    ],\n",
      "    [\n",
      "        1,\n",
      "        \"A\",\n",
      "        3.03\n",
      "    ],\n",
      "    [\n",
      "        2,\n",
      "        \"B\",\n",
      "        5.14\n",
      "    ],\n",
      "    [\n",
      "        3,\n",
      "        \"C\",\n",
      "        0.4\n",
      "    ],\n",
      "    [\n",
      "        4,\n",
      "        \"D\",\n",
      "        1.13\n",
      "    ],\n",
      "    [\n",
      "        5,\n",
      "        \"E\",\n",
      "        8.25\n",
      "    ]\n",
      "]\n"
     ]
    }
   ],
   "source": [
    "txt = json.dumps(df, sort_keys=True, indent=4)\n",
    "print(txt)"
   ]
  },
  {
   "cell_type": "code",
   "execution_count": 49,
   "metadata": {},
   "outputs": [],
   "source": [
    "with open('files/data.json', 'w') as f:\n",
    "    json.dump(obj = df, fp=f)"
   ]
  },
  {
   "cell_type": "code",
   "execution_count": 50,
   "metadata": {},
   "outputs": [
    {
     "name": "stdout",
     "output_type": "stream",
     "text": [
      "[[\"index\", \"name\", \"value\"], [1, \"A\", 3.03], [2, \"B\", 5.14], [3, \"C\", 0.4], [4, \"D\", 1.13], [5, \"E\", 8.25]]\n"
     ]
    }
   ],
   "source": [
    "print(open('files/data.json', 'r').read())"
   ]
  },
  {
   "cell_type": "code",
   "execution_count": 52,
   "metadata": {},
   "outputs": [
    {
     "data": {
      "text/plain": [
       "[['index', 'name', 'value'],\n",
       " [1, 'A', 3.03],\n",
       " [2, 'B', 5.14],\n",
       " [3, 'C', 0.4],\n",
       " [4, 'D', 1.13],\n",
       " [5, 'E', 8.25]]"
      ]
     },
     "execution_count": 52,
     "metadata": {},
     "output_type": "execute_result"
    }
   ],
   "source": [
    "with open('files/data.json','r') as f:\n",
    "    x = json.load(fp=f)\n",
    "x"
   ]
  },
  {
   "cell_type": "code",
   "execution_count": 56,
   "metadata": {},
   "outputs": [],
   "source": [
    "pathQuijote='files/El Quijote 1.txt'\n",
    "\n",
    "def wordscounter(file):\n",
    "    with open(file,'r') as f:\n",
    "        content = f.read()\n",
    "        words = content.split()\n",
    "        cant = len(words)\n",
    "    return(cant)\n",
    "\n"
   ]
  },
  {
   "cell_type": "code",
   "execution_count": 57,
   "metadata": {},
   "outputs": [
    {
     "data": {
      "text/plain": [
       "129"
      ]
     },
     "execution_count": 57,
     "metadata": {},
     "output_type": "execute_result"
    }
   ],
   "source": [
    "wordscounter(pathQuijote)"
   ]
  },
  {
   "cell_type": "code",
   "execution_count": 58,
   "metadata": {},
   "outputs": [
    {
     "data": {
      "text/plain": [
       "493"
      ]
     },
     "execution_count": 58,
     "metadata": {},
     "output_type": "execute_result"
    }
   ],
   "source": [
    "quijote2 = 'files/El Quijote 2.txt'\n",
    "\n",
    "wordscounter(quijote2)"
   ]
  },
  {
   "cell_type": "code",
   "execution_count": 68,
   "metadata": {},
   "outputs": [
    {
     "name": "stdout",
     "output_type": "stream",
     "text": [
      "{'LOS': 1, 'ADJETIVOS': 1, 'DEL': 1, 'HOMBRE': 1, 'VIRTUOSO': 1, 'Ese': 2, 'cuerpo,': 1, 'señores,': 1, 'que': 4, 'con': 1, 'piadosos': 1, 'ojos': 1, 'estáis': 1, 'mirando,': 1, 'fue': 5, 'depositario': 1, 'de': 7, 'un': 2, 'alma': 1, 'en': 8, 'quien': 2, 'el': 4, 'cielo': 1, 'puso': 1, 'infinita': 1, 'parte': 1, 'sus': 1, 'riquezas.': 1, 'es': 2, 'cuerpo': 1, 'Grisóstomo,': 1, 'único': 1, 'ingenio,': 1, 'solo': 1, 'la': 8, 'cortesía,': 1, 'estremo': 1, 'gentileza,': 1, 'fénix': 1, 'amistad,': 1, 'magnífico': 1, 'sin': 4, 'tasa,': 1, 'grave': 1, 'presunción,': 1, 'alegre': 1, 'bajeza,': 1, 'y,': 1, 'finalmente,': 1, 'primero': 1, 'todo': 2, 'lo': 2, 'ser': 3, 'bueno,': 1, 'y': 1, 'segundo': 1, 'desdichado.': 1, 'Quiso': 1, 'bien,': 1, 'aborrecido;': 1, 'adoró,': 1, 'desdeñado;': 1, 'rogó': 1, 'a': 4, 'una': 1, 'fiera,': 1, 'importunó': 1, 'mármol,': 1, 'corrió': 1, 'tras': 1, 'viento,': 1, 'dio': 1, 'voces': 1, 'soledad,': 1, 'sirvió': 1, 'ingratitud,': 1, 'alcanzó': 1, 'por': 1, 'premio': 1, 'despojos': 1, 'muerte': 1, 'mitad': 1, 'carrera': 1, 'su': 1, 'vida': 1}\n",
      "la palabra que menos se repite es \"LOS\" con 1 repeticiones, la palabra que mas se repite es \"en\" con 8 repeticiones\n"
     ]
    }
   ],
   "source": [
    "def wordsrepeat(file):\n",
    "    with open(file,'r', encoding='utf8') as f:\n",
    "        content = f.read()\n",
    "        words = content.split()\n",
    "        tmp = {} \n",
    "        for w in words:\n",
    "            if w in tmp:\n",
    "                tmp[w] +=1\n",
    "            else:\n",
    "                tmp[w] = 1\n",
    "        print(tmp)\n",
    "        minimo = min(tmp, key=tmp.get)\n",
    "        c_minimo = tmp[minimo]\n",
    "        maximo = max(tmp, key=tmp.get) \n",
    "        c_maximo = tmp[maximo]\n",
    "    return minimo, maximo,c_minimo,c_maximo\n",
    "\n",
    "\n",
    "    \n",
    "\n",
    "w_min, w_max, c_min, c_max = wordsrepeat(pathQuijote)\n",
    "print(f'la palabra que menos se repite es \"{w_min}\" con {c_min} repeticiones, la palabra que mas se repite es \"{w_max}\" con {c_max} repeticiones')"
   ]
  },
  {
   "cell_type": "code",
   "execution_count": 69,
   "metadata": {},
   "outputs": [
    {
     "ename": "UnicodeDecodeError",
     "evalue": "'charmap' codec can't decode byte 0x90 in position 22: character maps to <undefined>",
     "output_type": "error",
     "traceback": [
      "\u001b[1;31m---------------------------------------------------------------------------\u001b[0m",
      "\u001b[1;31mUnicodeDecodeError\u001b[0m                        Traceback (most recent call last)",
      "\u001b[1;32mc:\\Users\\Victor\\Documents\\Comfenalco\\preparacion_python\\notebooks\\archivospractica.ipynb Cell 33\u001b[0m line \u001b[0;36m1\n\u001b[0;32m     <a href='vscode-notebook-cell:/c%3A/Users/Victor/Documents/Comfenalco/preparacion_python/notebooks/archivospractica.ipynb#X44sZmlsZQ%3D%3D?line=13'>14</a>\u001b[0m         json\u001b[39m.\u001b[39mdump(data, json_file)\n\u001b[0;32m     <a href='vscode-notebook-cell:/c%3A/Users/Victor/Documents/Comfenalco/preparacion_python/notebooks/archivospractica.ipynb#X44sZmlsZQ%3D%3D?line=14'>15</a>\u001b[0m     \u001b[39mprint\u001b[39m(\u001b[39mf\u001b[39m\u001b[39m'\u001b[39m\u001b[39mSe ha transformado el archivo \u001b[39m\u001b[39m{\u001b[39;00mfile_in\u001b[39m}\u001b[39;00m\u001b[39m y se ha exportado \u001b[39m\u001b[39m{\u001b[39;00mfile_out\u001b[39m}\u001b[39;00m\u001b[39m'\u001b[39m)\n\u001b[1;32m---> <a href='vscode-notebook-cell:/c%3A/Users/Victor/Documents/Comfenalco/preparacion_python/notebooks/archivospractica.ipynb#X44sZmlsZQ%3D%3D?line=16'>17</a>\u001b[0m csvToJson(\u001b[39m'\u001b[39;49m\u001b[39mfiles/indicadores-mundiales.xlsx\u001b[39;49m\u001b[39m'\u001b[39;49m, \u001b[39m'\u001b[39;49m\u001b[39mfiles/indicadores-mundiales.json\u001b[39;49m\u001b[39m'\u001b[39;49m)\n",
      "\u001b[1;32mc:\\Users\\Victor\\Documents\\Comfenalco\\preparacion_python\\notebooks\\archivospractica.ipynb Cell 33\u001b[0m line \u001b[0;36m9\n\u001b[0;32m      <a href='vscode-notebook-cell:/c%3A/Users/Victor/Documents/Comfenalco/preparacion_python/notebooks/archivospractica.ipynb#X44sZmlsZQ%3D%3D?line=6'>7</a>\u001b[0m \u001b[39mwith\u001b[39;00m \u001b[39mopen\u001b[39m(file_in, \u001b[39m'\u001b[39m\u001b[39mr\u001b[39m\u001b[39m'\u001b[39m)\u001b[39mas\u001b[39;00m csvfile:\n\u001b[0;32m      <a href='vscode-notebook-cell:/c%3A/Users/Victor/Documents/Comfenalco/preparacion_python/notebooks/archivospractica.ipynb#X44sZmlsZQ%3D%3D?line=7'>8</a>\u001b[0m     f_reader \u001b[39m=\u001b[39m csv\u001b[39m.\u001b[39mDictReader(csvfile)\n\u001b[1;32m----> <a href='vscode-notebook-cell:/c%3A/Users/Victor/Documents/Comfenalco/preparacion_python/notebooks/archivospractica.ipynb#X44sZmlsZQ%3D%3D?line=8'>9</a>\u001b[0m     \u001b[39mfor\u001b[39;00m row \u001b[39min\u001b[39;00m f_reader:\n\u001b[0;32m     <a href='vscode-notebook-cell:/c%3A/Users/Victor/Documents/Comfenalco/preparacion_python/notebooks/archivospractica.ipynb#X44sZmlsZQ%3D%3D?line=9'>10</a>\u001b[0m         data\u001b[39m.\u001b[39mappend(row)\n\u001b[0;32m     <a href='vscode-notebook-cell:/c%3A/Users/Victor/Documents/Comfenalco/preparacion_python/notebooks/archivospractica.ipynb#X44sZmlsZQ%3D%3D?line=10'>11</a>\u001b[0m     \u001b[39mprint\u001b[39m(data)\n",
      "File \u001b[1;32mC:\\Program Files\\WindowsApps\\PythonSoftwareFoundation.Python.3.10_3.10.3056.0_x64__qbz5n2kfra8p0\\lib\\csv.py:110\u001b[0m, in \u001b[0;36mDictReader.__next__\u001b[1;34m(self)\u001b[0m\n\u001b[0;32m    107\u001b[0m \u001b[39mdef\u001b[39;00m \u001b[39m__next__\u001b[39m(\u001b[39mself\u001b[39m):\n\u001b[0;32m    108\u001b[0m     \u001b[39mif\u001b[39;00m \u001b[39mself\u001b[39m\u001b[39m.\u001b[39mline_num \u001b[39m==\u001b[39m \u001b[39m0\u001b[39m:\n\u001b[0;32m    109\u001b[0m         \u001b[39m# Used only for its side effect.\u001b[39;00m\n\u001b[1;32m--> 110\u001b[0m         \u001b[39mself\u001b[39;49m\u001b[39m.\u001b[39;49mfieldnames\n\u001b[0;32m    111\u001b[0m     row \u001b[39m=\u001b[39m \u001b[39mnext\u001b[39m(\u001b[39mself\u001b[39m\u001b[39m.\u001b[39mreader)\n\u001b[0;32m    112\u001b[0m     \u001b[39mself\u001b[39m\u001b[39m.\u001b[39mline_num \u001b[39m=\u001b[39m \u001b[39mself\u001b[39m\u001b[39m.\u001b[39mreader\u001b[39m.\u001b[39mline_num\n",
      "File \u001b[1;32mC:\\Program Files\\WindowsApps\\PythonSoftwareFoundation.Python.3.10_3.10.3056.0_x64__qbz5n2kfra8p0\\lib\\csv.py:97\u001b[0m, in \u001b[0;36mDictReader.fieldnames\u001b[1;34m(self)\u001b[0m\n\u001b[0;32m     95\u001b[0m \u001b[39mif\u001b[39;00m \u001b[39mself\u001b[39m\u001b[39m.\u001b[39m_fieldnames \u001b[39mis\u001b[39;00m \u001b[39mNone\u001b[39;00m:\n\u001b[0;32m     96\u001b[0m     \u001b[39mtry\u001b[39;00m:\n\u001b[1;32m---> 97\u001b[0m         \u001b[39mself\u001b[39m\u001b[39m.\u001b[39m_fieldnames \u001b[39m=\u001b[39m \u001b[39mnext\u001b[39;49m(\u001b[39mself\u001b[39;49m\u001b[39m.\u001b[39;49mreader)\n\u001b[0;32m     98\u001b[0m     \u001b[39mexcept\u001b[39;00m \u001b[39mStopIteration\u001b[39;00m:\n\u001b[0;32m     99\u001b[0m         \u001b[39mpass\u001b[39;00m\n",
      "File \u001b[1;32mC:\\Program Files\\WindowsApps\\PythonSoftwareFoundation.Python.3.10_3.10.3056.0_x64__qbz5n2kfra8p0\\lib\\encodings\\cp1252.py:23\u001b[0m, in \u001b[0;36mIncrementalDecoder.decode\u001b[1;34m(self, input, final)\u001b[0m\n\u001b[0;32m     22\u001b[0m \u001b[39mdef\u001b[39;00m \u001b[39mdecode\u001b[39m(\u001b[39mself\u001b[39m, \u001b[39minput\u001b[39m, final\u001b[39m=\u001b[39m\u001b[39mFalse\u001b[39;00m):\n\u001b[1;32m---> 23\u001b[0m     \u001b[39mreturn\u001b[39;00m codecs\u001b[39m.\u001b[39;49mcharmap_decode(\u001b[39minput\u001b[39;49m,\u001b[39mself\u001b[39;49m\u001b[39m.\u001b[39;49merrors,decoding_table)[\u001b[39m0\u001b[39m]\n",
      "\u001b[1;31mUnicodeDecodeError\u001b[0m: 'charmap' codec can't decode byte 0x90 in position 22: character maps to <undefined>"
     ]
    }
   ],
   "source": [
    "import csv\n",
    "import json\n",
    "\n",
    "def csvToJson(file_in, file_out):\n",
    "    data = []\n",
    "\n",
    "    with open(file_in, 'r')as csvfile:\n",
    "        f_reader = csv.DictReader(csvfile)\n",
    "        for row in f_reader:\n",
    "            data.append(row)\n",
    "        print(data)\n",
    "\n",
    "    with open(file_out, 'w')as json_file:\n",
    "        json.dump(data, json_file)\n",
    "    print(f'Se ha transformado el archivo {file_in} y se ha exportado {file_out}')\n",
    "\n",
    "csvToJson('files/indicadores-mundiales.xlsx', 'files/indicadores-mundiales.json')"
   ]
  }
 ],
 "metadata": {
  "kernelspec": {
   "display_name": "Python 3",
   "language": "python",
   "name": "python3"
  },
  "language_info": {
   "codemirror_mode": {
    "name": "ipython",
    "version": 3
   },
   "file_extension": ".py",
   "mimetype": "text/x-python",
   "name": "python",
   "nbconvert_exporter": "python",
   "pygments_lexer": "ipython3",
   "version": "3.10.11"
  },
  "orig_nbformat": 4
 },
 "nbformat": 4,
 "nbformat_minor": 2
}

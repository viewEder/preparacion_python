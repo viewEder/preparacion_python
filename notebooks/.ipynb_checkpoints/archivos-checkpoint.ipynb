{
 "cells": [
  {
   "cell_type": "markdown",
   "metadata": {},
   "source": [
    "Archivos\n",
    "===\n",
    "\n",
    "**Juan David Velásquez Henao**  \n",
    "jdvelasq@unal.edu.co   \n",
    "Universidad Nacional de Colombia, Sede Medellín  \n",
    "Facultad de Minas  \n",
    "Medellín, Colombia\n",
    "\n",
    "---\n",
    "\n",
    "Haga click [aquí](https://github.com/jdvelasq/Python-for-ETL-processes/tree/master/) para acceder al repositorio online.\n",
    "\n",
    "Haga click [aquí](http://nbviewer.jupyter.org/github/jdvelasq/Python-for-ETL-processes/tree/master/) para explorar el repositorio usando `nbviewer`. "
   ]
  },
  {
   "cell_type": "markdown",
   "metadata": {},
   "source": [
    "---"
   ]
  },
  {
   "cell_type": "markdown",
   "metadata": {},
   "source": [
    "## Lectura y escritura de archivos de texto con `open`"
   ]
  },
  {
   "cell_type": "markdown",
   "metadata": {},
   "source": [
    "> [`open`](https://docs.python.org/3/tutorial/inputoutput.html)\n"
   ]
  },
  {
   "cell_type": "markdown",
   "metadata": {},
   "source": [
    "La función `open(` _`filename`_ `,` _`mode`_ `)` permite abrir el archivo llamada _`filename`_; _`mode`_  es una cadena de texto que especifica la forma en que se habre el archivo asi: `'r'` para lectura, `'w'` para escritura (borra el contenido del archivo) y `'a'` para escribir al final (append); adicionalmente, se puede agregar `'b'` para indicar que el archivo se abre en modo binario (por defecto se abre en mdoeo texto). `open` devuelve un objeto que permite manipuar el archivo. "
   ]
  },
  {
   "cell_type": "markdown",
   "metadata": {},
   "source": [
    "### Escritura de una variable con texto a un archivo"
   ]
  },
  {
   "cell_type": "code",
   "execution_count": 1,
   "metadata": {},
   "outputs": [],
   "source": [
    "## Se almacena un texto en una variable.\n",
    "txt = '''R is a programming language and software environment for statistical computing \n",
    "and graphics supported by the R Foundation for Statistical Computing.[3] The R language \n",
    "is widely used among statisticians and data miners for developing statistical software[4] \n",
    "and data analysis.[5] Polls, surveys of data miners, and studies of scholarly literature \n",
    "databases show that R's popularity has increased substantially in recent years.[6]\n",
    "'''"
   ]
  },
  {
   "cell_type": "code",
   "execution_count": 2,
   "metadata": {
    "scrolled": true
   },
   "outputs": [
    {
     "name": "stdout",
     "output_type": "stream",
     "text": [
      "R is a programming language and software environment for statistical computing \n",
      "and graphics supported by the R Foundation for Statistical Computing.[3] The R language \n",
      "is widely used among statisticians and data miners for developing statistical software[4] \n",
      "and data analysis.[5] Polls, surveys of data miners, and studies of scholarly literature \n",
      "databases show that R's popularity has increased substantially in recent years.[6]\n",
      "\n"
     ]
    }
   ],
   "source": [
    "## Se verifica el contenido.\n",
    "print(txt)"
   ]
  },
  {
   "cell_type": "code",
   "execution_count": 3,
   "metadata": {},
   "outputs": [
    {
     "data": {
      "text/plain": [
       "433"
      ]
     },
     "execution_count": 3,
     "metadata": {},
     "output_type": "execute_result"
    }
   ],
   "source": [
    "## Se escribe el contenido de `txt` a un archivo en disco\n",
    "open('files/wikipedia.txt', 'w').write(txt) "
   ]
  },
  {
   "cell_type": "code",
   "execution_count": 4,
   "metadata": {},
   "outputs": [
    {
     "data": {
      "text/plain": [
       "\"R is a programming language and software environment for statistical computing \\nand graphics supported by the R Foundation for Statistical Computing.[3] The R language \\nis widely used among statisticians and data miners for developing statistical software[4] \\nand data analysis.[5] Polls, surveys of data miners, and studies of scholarly literature \\ndatabases show that R's popularity has increased substantially in recent years.[6]\\n\""
      ]
     },
     "execution_count": 4,
     "metadata": {},
     "output_type": "execute_result"
    }
   ],
   "source": [
    "## abre el archivo, lee todo el contenido del archivo y luego lo cierra.\n",
    "open('files/wikipedia.txt', 'r').read() "
   ]
  },
  {
   "cell_type": "markdown",
   "metadata": {},
   "source": [
    "### Escritura secuencial a un archivo"
   ]
  },
  {
   "cell_type": "code",
   "execution_count": 5,
   "metadata": {},
   "outputs": [],
   "source": [
    "## Se abre el archivo para escritura\n",
    "f = open('out.1', 'w') "
   ]
  },
  {
   "cell_type": "code",
   "execution_count": 6,
   "metadata": {},
   "outputs": [],
   "source": [
    "## impresión de varias lineas en un solo print \n",
    "print(\"linea 1\", \"linea 2\", \"linea 3\", sep='\\n', file=f) "
   ]
  },
  {
   "cell_type": "code",
   "execution_count": 7,
   "metadata": {},
   "outputs": [],
   "source": [
    "## impresión de una línea por print\n",
    "print(\"linea 4\", file=f)   \n",
    "print(\"linea 5\", file=f)\n",
    "print(\"linea 6\", file=f)"
   ]
  },
  {
   "cell_type": "code",
   "execution_count": 8,
   "metadata": {},
   "outputs": [
    {
     "data": {
      "text/plain": [
       "7"
      ]
     },
     "execution_count": 8,
     "metadata": {},
     "output_type": "execute_result"
    }
   ],
   "source": [
    "## impresión usando write\n",
    "f.write('linea 7')"
   ]
  },
  {
   "cell_type": "code",
   "execution_count": 9,
   "metadata": {},
   "outputs": [],
   "source": [
    "## cierra el archivo\n",
    "f.close()"
   ]
  },
  {
   "cell_type": "markdown",
   "metadata": {},
   "source": [
    "### Lectura de un archivo"
   ]
  },
  {
   "cell_type": "code",
   "execution_count": 10,
   "metadata": {},
   "outputs": [
    {
     "data": {
      "text/plain": [
       "'linea 1\\nlinea 2\\nlinea 3\\nlinea 4\\nlinea 5\\nlinea 6\\nlinea 7'"
      ]
     },
     "execution_count": 10,
     "metadata": {},
     "output_type": "execute_result"
    }
   ],
   "source": [
    "## contenido del archivo\n",
    "open('out.1', 'r').read()"
   ]
  },
  {
   "cell_type": "code",
   "execution_count": 11,
   "metadata": {},
   "outputs": [
    {
     "name": "stdout",
     "output_type": "stream",
     "text": [
      "linea 1\n",
      "linea 2\n",
      "linea 3\n",
      "linea 4\n",
      "linea 5\n",
      "linea 6\n",
      "linea 7\n"
     ]
    }
   ],
   "source": [
    "## impresión con formato del contenido de un archivo.\n",
    "print(open('out.1', 'r').read())"
   ]
  },
  {
   "cell_type": "code",
   "execution_count": 12,
   "metadata": {},
   "outputs": [
    {
     "name": "stdout",
     "output_type": "stream",
     "text": [
      "linea 1\n",
      "linea 2\n",
      "linea 3\n",
      "linea 4\n",
      "linea 5\n",
      "linea 6\n",
      "linea 7"
     ]
    }
   ],
   "source": [
    "## forma alternativa (mas usual) \n",
    "with open('out.1', 'r') as f:\n",
    "    print(f.read(), end='')    # el archivo se cierra al salir del bloque `with`"
   ]
  },
  {
   "cell_type": "code",
   "execution_count": 13,
   "metadata": {},
   "outputs": [
    {
     "data": {
      "text/plain": [
       "True"
      ]
     },
     "execution_count": 13,
     "metadata": {},
     "output_type": "execute_result"
    }
   ],
   "source": [
    "f.closed # es una función que devuelve `True` cuando el archivo está cerrado. "
   ]
  },
  {
   "cell_type": "code",
   "execution_count": 14,
   "metadata": {},
   "outputs": [
    {
     "data": {
      "text/plain": [
       "['linea 1\\n',\n",
       " 'linea 2\\n',\n",
       " 'linea 3\\n',\n",
       " 'linea 4\\n',\n",
       " 'linea 5\\n',\n",
       " 'linea 6\\n',\n",
       " 'linea 7']"
      ]
     },
     "execution_count": 14,
     "metadata": {},
     "output_type": "execute_result"
    }
   ],
   "source": [
    "## Otra forma, observe el uso de `list`.\n",
    "f = open('out.1', 'r')\n",
    "x = list(f)\n",
    "f.close()\n",
    "x  # note que aparece el retorno de carro '\\n' al final de cada línea"
   ]
  },
  {
   "cell_type": "markdown",
   "metadata": {},
   "source": [
    "### Lectura secuencial del contenido de un archivo linea por linea"
   ]
  },
  {
   "cell_type": "code",
   "execution_count": 15,
   "metadata": {},
   "outputs": [],
   "source": [
    "## Lectura del contenido\n",
    "## de un archivo línea a línea.\n",
    "f = open('out.1', 'r')"
   ]
  },
  {
   "cell_type": "code",
   "execution_count": 16,
   "metadata": {},
   "outputs": [
    {
     "data": {
      "text/plain": [
       "'linea 1\\n'"
      ]
     },
     "execution_count": 16,
     "metadata": {},
     "output_type": "execute_result"
    }
   ],
   "source": [
    "## Lee la primera línea.\n",
    "f.readline() "
   ]
  },
  {
   "cell_type": "code",
   "execution_count": 17,
   "metadata": {},
   "outputs": [
    {
     "data": {
      "text/plain": [
       "'linea 2\\n'"
      ]
     },
     "execution_count": 17,
     "metadata": {},
     "output_type": "execute_result"
    }
   ],
   "source": [
    "## lee la segunda línea.\n",
    "f.readline() "
   ]
  },
  {
   "cell_type": "code",
   "execution_count": 18,
   "metadata": {},
   "outputs": [
    {
     "data": {
      "text/plain": [
       "'linea 3\\n'"
      ]
     },
     "execution_count": 18,
     "metadata": {},
     "output_type": "execute_result"
    }
   ],
   "source": [
    "## lee la tercera línea y así sucesivamente\n",
    "## hasta alcanzar el final del archivo\n",
    "f.readline() "
   ]
  },
  {
   "cell_type": "code",
   "execution_count": 19,
   "metadata": {},
   "outputs": [],
   "source": [
    "f.close() # cierra el archivo."
   ]
  },
  {
   "cell_type": "markdown",
   "metadata": {},
   "source": [
    "### Lectura secuencial del contenido de un archivo usando un ciclo for"
   ]
  },
  {
   "cell_type": "markdown",
   "metadata": {},
   "source": [
    "En el siguiente ejemplo se ilustra como usar un ciclo `for` para leer el contenido de un archivo."
   ]
  },
  {
   "cell_type": "code",
   "execution_count": 20,
   "metadata": {},
   "outputs": [
    {
     "name": "stdout",
     "output_type": "stream",
     "text": [
      "linea 1\n",
      "linea 2\n",
      "linea 3\n",
      "linea 4\n",
      "linea 5\n",
      "linea 6\n",
      "linea 7"
     ]
    }
   ],
   "source": [
    "## abre el archivo\n",
    "f = open('out.1', 'r')\n",
    "\n",
    "## se itera sobre cada linea del archivo\n",
    "## una a la vez\n",
    "for line in f:\n",
    "    print(line, end='')\n",
    "f.close()"
   ]
  },
  {
   "cell_type": "markdown",
   "metadata": {},
   "source": [
    "## Lectura y escritura de tablas de texto"
   ]
  },
  {
   "cell_type": "markdown",
   "metadata": {},
   "source": [
    "> [`csv`](https://docs.python.org/3.5/library/csv.html)"
   ]
  },
  {
   "cell_type": "markdown",
   "metadata": {},
   "source": [
    "En esta sección se aborda la lectura de archivos delimitados por caracteres. Los delimitadores incluyen el espacio en blanco, la coma y el punto y coma. El parámetro `delimiter` permite especificar el caracter delimitador, mientrasq que el parámetro `quoting` permite especificar los delimitadores para los strings."
   ]
  },
  {
   "cell_type": "markdown",
   "metadata": {},
   "source": [
    "Se crea una tabla para los realizar los ejemplos."
   ]
  },
  {
   "cell_type": "code",
   "execution_count": 21,
   "metadata": {},
   "outputs": [
    {
     "data": {
      "text/plain": [
       "[['index', 'name', 'value'],\n",
       " [1, 'A', 3.03],\n",
       " [2, 'B', 5.14],\n",
       " [3, 'C', 0.4],\n",
       " [4, 'D', 1.13],\n",
       " [5, 'E', 8.25]]"
      ]
     },
     "execution_count": 21,
     "metadata": {},
     "output_type": "execute_result"
    }
   ],
   "source": [
    "## crea la tabla de datos de prueba.\n",
    "## cada fila es una lista\n",
    "df = [[\"index\", \"name\", \"value\"],\n",
    "      [1, \"A\", 3.03],\n",
    "      [2, \"B\", 5.14],\n",
    "      [3, \"C\", 0.40],\n",
    "      [4, \"D\", 1.13],\n",
    "      [5, \"E\", 8.25]]\n",
    "df"
   ]
  },
  {
   "cell_type": "code",
   "execution_count": 22,
   "metadata": {},
   "outputs": [],
   "source": [
    "## importa la librería\n",
    "import csv"
   ]
  },
  {
   "cell_type": "markdown",
   "metadata": {},
   "source": [
    "### Archivos delimitados por espacios"
   ]
  },
  {
   "cell_type": "code",
   "execution_count": 23,
   "metadata": {},
   "outputs": [],
   "source": [
    "## escribe el archivo en forma de tabla de texto\n",
    "with open('files/data.txt', 'w') as f:             # abre el archivo para escritura\n",
    "    x = csv.writer(f,                              # crea el objeto x\n",
    "                   delimiter=' ',                  # delimitado por ' '\n",
    "                   quoting=csv.QUOTE_NONNUMERIC)   # sin \" \" para los strings\n",
    "    for r in df:\n",
    "        x.writerow(r)"
   ]
  },
  {
   "cell_type": "markdown",
   "metadata": {},
   "source": [
    "Note que los strings están entre comillas."
   ]
  },
  {
   "cell_type": "code",
   "execution_count": 24,
   "metadata": {},
   "outputs": [
    {
     "name": "stdout",
     "output_type": "stream",
     "text": [
      "\"index\" \"name\" \"value\"\n",
      "1 \"A\" 3.03\n",
      "2 \"B\" 5.14\n",
      "3 \"C\" 0.4\n",
      "4 \"D\" 1.13\n",
      "5 \"E\" 8.25\n",
      "\n"
     ]
    }
   ],
   "source": [
    "## verifica el archivo creado\n",
    "print(open('files/data.txt', 'r').read())"
   ]
  },
  {
   "cell_type": "code",
   "execution_count": 27,
   "metadata": {},
   "outputs": [
    {
     "data": {
      "text/plain": [
       "'\"index\" \"name\" \"value\"\\n1 \"A\" 3.03\\n2 \"B\" 5.14\\n3 \"C\" 0.4\\n4 \"D\" 1.13\\n5 \"E\" 8.25\\n'"
      ]
     },
     "execution_count": 27,
     "metadata": {},
     "output_type": "execute_result"
    }
   ],
   "source": [
    "## Lee el archivo como una tabla de texto\n",
    "with open('files/data.txt', 'r') as f:  \n",
    "    x = csv.reader(f, \n",
    "                    delimiter=' ', \n",
    "                    quoting=csv.QUOTE_NONNUMERIC) \n",
    "\n",
    "## verifica el archivo creado\n",
    "open('files/data.txt', 'r').read()"
   ]
  },
  {
   "cell_type": "code",
   "execution_count": 28,
   "metadata": {},
   "outputs": [
    {
     "name": "stdout",
     "output_type": "stream",
     "text": [
      "\"index\" \"name\" \"value\"\n",
      "1 \"A\" 3.03\n",
      "2 \"B\" 5.14\n",
      "3 \"C\" 0.4\n",
      "4 \"D\" 1.13\n",
      "5 \"E\" 8.25\n",
      "\n"
     ]
    }
   ],
   "source": [
    "print(open('files/data.txt', 'r').read())"
   ]
  },
  {
   "cell_type": "markdown",
   "metadata": {},
   "source": [
    "### Archivos delimitados por comas (CSV)"
   ]
  },
  {
   "cell_type": "code",
   "execution_count": 30,
   "metadata": {},
   "outputs": [],
   "source": [
    "with open('files/data.csv', 'w') as f:\n",
    "    x = csv.writer(f, \n",
    "                   delimiter = ',',\n",
    "                   quoting=csv.QUOTE_NONNUMERIC)\n",
    "    for r in df:\n",
    "        x.writerow(r)"
   ]
  },
  {
   "cell_type": "code",
   "execution_count": 31,
   "metadata": {},
   "outputs": [
    {
     "data": {
      "text/plain": [
       "'\"index\",\"name\",\"value\"\\n1,\"A\",3.03\\n2,\"B\",5.14\\n3,\"C\",0.4\\n4,\"D\",1.13\\n5,\"E\",8.25\\n'"
      ]
     },
     "execution_count": 31,
     "metadata": {},
     "output_type": "execute_result"
    }
   ],
   "source": [
    "## verifica el archivo creado\n",
    "open('files/data.csv', 'r').read()"
   ]
  },
  {
   "cell_type": "code",
   "execution_count": 32,
   "metadata": {},
   "outputs": [
    {
     "name": "stdout",
     "output_type": "stream",
     "text": [
      "\"index\",\"name\",\"value\"\n",
      "1,\"A\",3.03\n",
      "2,\"B\",5.14\n",
      "3,\"C\",0.4\n",
      "4,\"D\",1.13\n",
      "5,\"E\",8.25\n",
      "\n"
     ]
    }
   ],
   "source": [
    "print(open('files/data.csv', 'r').read())"
   ]
  },
  {
   "cell_type": "code",
   "execution_count": 34,
   "metadata": {
    "scrolled": true
   },
   "outputs": [
    {
     "name": "stdout",
     "output_type": "stream",
     "text": [
      "['index', 'name', 'value']\n",
      "[1.0, 'A', 3.03]\n",
      "[2.0, 'B', 5.14]\n",
      "[3.0, 'C', 0.4]\n",
      "[4.0, 'D', 1.13]\n",
      "[5.0, 'E', 8.25]\n"
     ]
    }
   ],
   "source": [
    "## lee el archivo csv \n",
    "with open('files/data.csv', 'r') as f:\n",
    "    x = csv.reader(f, \n",
    "                   delimiter=',', \n",
    "                   quoting=csv.QUOTE_NONNUMERIC)\n",
    "    \n",
    "    ## se lee una linea a la vez\n",
    "    for r in x:\n",
    "        print(r)"
   ]
  },
  {
   "cell_type": "markdown",
   "metadata": {},
   "source": [
    "## Archivos en formato JSON"
   ]
  },
  {
   "cell_type": "code",
   "execution_count": 35,
   "metadata": {},
   "outputs": [],
   "source": [
    "## importa la libreria\n",
    "import json"
   ]
  },
  {
   "cell_type": "code",
   "execution_count": 36,
   "metadata": {},
   "outputs": [
    {
     "data": {
      "text/plain": [
       "'[[\"index\", \"name\", \"value\"], [1, \"A\", 3.03], [2, \"B\", 5.14], [3, \"C\", 0.4], [4, \"D\", 1.13], [5, \"E\", 8.25]]'"
      ]
     },
     "execution_count": 36,
     "metadata": {},
     "output_type": "execute_result"
    }
   ],
   "source": [
    "## convierte los datos en string\n",
    "json.dumps(df)"
   ]
  },
  {
   "cell_type": "code",
   "execution_count": 37,
   "metadata": {},
   "outputs": [
    {
     "data": {
      "text/plain": [
       "'[\\n    [\\n        \"index\",\\n        \"name\",\\n        \"value\"\\n    ],\\n    [\\n        1,\\n        \"A\",\\n        3.03\\n    ],\\n    [\\n        2,\\n        \"B\",\\n        5.14\\n    ],\\n    [\\n        3,\\n        \"C\",\\n        0.4\\n    ],\\n    [\\n        4,\\n        \"D\",\\n        1.13\\n    ],\\n    [\\n        5,\\n        \"E\",\\n        8.25\\n    ]\\n]'"
      ]
     },
     "execution_count": 37,
     "metadata": {},
     "output_type": "execute_result"
    }
   ],
   "source": [
    "## mismo caso anterior pero con impresion 'bonita'\n",
    "json.dumps(df, \n",
    "           sort_keys = True, \n",
    "           indent = 4)"
   ]
  },
  {
   "cell_type": "code",
   "execution_count": 38,
   "metadata": {},
   "outputs": [
    {
     "name": "stdout",
     "output_type": "stream",
     "text": [
      "[\n",
      "    [\n",
      "        \"index\",\n",
      "        \"name\",\n",
      "        \"value\"\n",
      "    ],\n",
      "    [\n",
      "        1,\n",
      "        \"A\",\n",
      "        3.03\n",
      "    ],\n",
      "    [\n",
      "        2,\n",
      "        \"B\",\n",
      "        5.14\n",
      "    ],\n",
      "    [\n",
      "        3,\n",
      "        \"C\",\n",
      "        0.4\n",
      "    ],\n",
      "    [\n",
      "        4,\n",
      "        \"D\",\n",
      "        1.13\n",
      "    ],\n",
      "    [\n",
      "        5,\n",
      "        \"E\",\n",
      "        8.25\n",
      "    ]\n",
      "]\n"
     ]
    }
   ],
   "source": [
    "y = json.dumps(df, \n",
    "               sort_keys = True, \n",
    "               indent = 4)\n",
    "print(y)"
   ]
  },
  {
   "cell_type": "code",
   "execution_count": 39,
   "metadata": {},
   "outputs": [
    {
     "data": {
      "text/plain": [
       "[['index', 'name', 'value'],\n",
       " [1, 'A', 3.03],\n",
       " [2, 'B', 5.14],\n",
       " [3, 'C', 0.4],\n",
       " [4, 'D', 1.13],\n",
       " [5, 'E', 8.25]]"
      ]
     },
     "execution_count": 39,
     "metadata": {},
     "output_type": "execute_result"
    }
   ],
   "source": [
    "## convierte el string en datos\n",
    "json.loads(y)"
   ]
  },
  {
   "cell_type": "code",
   "execution_count": 40,
   "metadata": {},
   "outputs": [],
   "source": [
    "## convierte los datos en string y\n",
    "## los guarda en un archivo \n",
    "with open('files/data.json', 'w') as f:\n",
    "    json.dump(obj = df,   # datos \n",
    "              fp = f)     # archivo"
   ]
  },
  {
   "cell_type": "code",
   "execution_count": 42,
   "metadata": {},
   "outputs": [
    {
     "data": {
      "text/plain": [
       "'\"index\",\"name\",\"value\"\\n1,\"A\",3.03\\n2,\"B\",5.14\\n3,\"C\",0.4\\n4,\"D\",1.13\\n5,\"E\",8.25\\n'"
      ]
     },
     "execution_count": 42,
     "metadata": {},
     "output_type": "execute_result"
    }
   ],
   "source": [
    "open('files/data.csv', 'r').read()"
   ]
  },
  {
   "cell_type": "code",
   "execution_count": 41,
   "metadata": {},
   "outputs": [
    {
     "data": {
      "text/plain": [
       "[['index', 'name', 'value'],\n",
       " [1, 'A', 3.03],\n",
       " [2, 'B', 5.14],\n",
       " [3, 'C', 0.4],\n",
       " [4, 'D', 1.13],\n",
       " [5, 'E', 8.25]]"
      ]
     },
     "execution_count": 41,
     "metadata": {},
     "output_type": "execute_result"
    }
   ],
   "source": [
    "## recupera los datos desde el archivo\n",
    "with open('files/data.json', 'r') as f:\n",
    "    x = json.load(fp = f)\n",
    "x"
   ]
  },
  {
   "cell_type": "markdown",
   "metadata": {},
   "source": [
    "## Formato binario nativo de Python"
   ]
  },
  {
   "cell_type": "code",
   "execution_count": 43,
   "metadata": {},
   "outputs": [],
   "source": [
    "## carga la librería\n",
    "import pickle"
   ]
  },
  {
   "cell_type": "code",
   "execution_count": 44,
   "metadata": {},
   "outputs": [],
   "source": [
    "## salva el objeto en el disco\n",
    "with open('files/data.pickle', 'wb') as f:\n",
    "    pickle.dump(obj = df, file = f)"
   ]
  },
  {
   "cell_type": "code",
   "execution_count": 45,
   "metadata": {},
   "outputs": [],
   "source": [
    "## borra la variable x\n",
    "del df"
   ]
  },
  {
   "cell_type": "code",
   "execution_count": 46,
   "metadata": {},
   "outputs": [
    {
     "name": "stdout",
     "output_type": "stream",
     "text": [
      "Variable   Type              Data/Info\n",
      "--------------------------------------\n",
      "csv        module            <module 'csv' from '/User<...>a3/lib/python3.6/csv.py'>\n",
      "f          BufferedWriter    <_io.BufferedWriter name='files/data.pickle'>\n",
      "json       module            <module 'json' from '/Use<...>hon3.6/json/__init__.py'>\n",
      "line       str               linea 7\n",
      "pickle     module            <module 'pickle' from '/U<...>lib/python3.6/pickle.py'>\n",
      "r          list              n=3\n",
      "txt        str               R is a programming langua<...>lly in recent years.[6]\\n\n",
      "x          list              n=6\n",
      "y          str               [\\n    [\\n        \"index\"<...>,\\n        8.25\\n    ]\\n]\n"
     ]
    }
   ],
   "source": [
    "whos"
   ]
  },
  {
   "cell_type": "code",
   "execution_count": 47,
   "metadata": {},
   "outputs": [
    {
     "name": "stdout",
     "output_type": "stream",
     "text": [
      "[['index', 'name', 'value'], [1, 'A', 3.03], [2, 'B', 5.14], [3, 'C', 0.4], [4, 'D', 1.13], [5, 'E', 8.25]]\n"
     ]
    }
   ],
   "source": [
    "## recupera el objeto del disco\n",
    "with open('files/data.pickle', 'rb') as f:\n",
    "    df = pickle.load(f)\n",
    "    \n",
    "print(df)"
   ]
  },
  {
   "cell_type": "markdown",
   "metadata": {},
   "source": [
    "---"
   ]
  }
 ],
 "metadata": {
  "anaconda-cloud": {},
  "kernelspec": {
   "display_name": "Python 3 (ipykernel)",
   "language": "python",
   "name": "python3"
  },
  "language_info": {
   "codemirror_mode": {
    "name": "ipython",
    "version": 3
   },
   "file_extension": ".py",
   "mimetype": "text/x-python",
   "name": "python",
   "nbconvert_exporter": "python",
   "pygments_lexer": "ipython3",
   "version": "3.11.4"
  }
 },
 "nbformat": 4,
 "nbformat_minor": 2
}

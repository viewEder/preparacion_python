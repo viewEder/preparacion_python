{
 "cells": [
  {
   "cell_type": "markdown",
   "id": "13b7c51e",
   "metadata": {},
   "source": [
    "# Ejercicios - Básico"
   ]
  },
  {
   "cell_type": "markdown",
   "id": "cdc748bc",
   "metadata": {},
   "source": [
    "1. Escribir un programa que solicite información básica"
   ]
  },
  {
   "cell_type": "code",
   "execution_count": 4,
   "id": "0d0d82b8",
   "metadata": {},
   "outputs": [
    {
     "name": "stdout",
     "output_type": "stream",
     "text": [
      "Ingrese si nombre y apellido\n",
      "Sebastian Mesa\n",
      "Ingrese su tipo de documento:\n",
      "Cedula\n",
      "Ingrese su Cedula:\n",
      "34525634\n",
      "Nombre: Sebastian \n",
      "Apellido: Mesa \n",
      "Documento: Cedula 34525634\n"
     ]
    }
   ],
   "source": [
    "nombre, apellido = input('Ingrese si nombre y apellido\\n').split()\n",
    "tipo_documento = input('Ingrese su tipo de documento:\\n')\n",
    "documento = input(f'Ingrese su {tipo_documento}:\\n')\n",
    "\n",
    "print(f'Nombre: {nombre} \\nApellido: {apellido} \\nDocumento: {tipo_documento} {documento}')\n"
   ]
  },
  {
   "cell_type": "markdown",
   "id": "db723cd6",
   "metadata": {},
   "source": [
    "2. Escribir un script que captura la altura y el peso de una persona y calcule el IMC"
   ]
  },
  {
   "cell_type": "code",
   "execution_count": 10,
   "id": "57fd5e13",
   "metadata": {},
   "outputs": [
    {
     "name": "stdout",
     "output_type": "stream",
     "text": [
      "Ingrese su altura: 1.75\n",
      "Ingrese su peso: 70\n",
      "Su imc es 22.857142857142858\n"
     ]
    }
   ],
   "source": [
    "altura = float(input('Ingrese su altura: '))\n",
    "peso = float(input('Ingrese su peso: '))\n",
    "\n",
    "imc = peso/(altura**2)\n",
    "\n",
    "print(f'Su imc es {imc}')"
   ]
  },
  {
   "cell_type": "markdown",
   "id": "5c1a2394",
   "metadata": {},
   "source": [
    "3. Escribir una rutina que lea un número entero positivo (Evaluar que sea asi), nume; y muestre la suma de los numeros desde el 1 hasta nume para ellos tenga en cuenta que podemos sumar los numeros positivos hasta un limite usando la siguiente formula: (n(n+1)/2)"
   ]
  },
  {
   "cell_type": "code",
   "execution_count": 26,
   "id": "24e32b4e",
   "metadata": {},
   "outputs": [],
   "source": [
    "def sumatoria(nume):\n",
    "    nume = (nume*(nume+1))/2 if nume>=0 else 'Solo positivos' \n",
    "    return nume\n",
    "\n"
   ]
  },
  {
   "cell_type": "code",
   "execution_count": 28,
   "id": "86e127f7",
   "metadata": {},
   "outputs": [
    {
     "name": "stdout",
     "output_type": "stream",
     "text": [
      "55.0\n"
     ]
    }
   ],
   "source": [
    "print(sumatoria(10)) # Prueba"
   ]
  },
  {
   "cell_type": "markdown",
   "id": "a2bf9488",
   "metadata": {},
   "source": [
    "4. Escribir un programa que captura la información de las horas trabajadas por un usuario y el costo de cada una de estas, mostrar en pantalla un informe con el nombre del usuario, las horas y el valor pagado"
   ]
  },
  {
   "cell_type": "code",
   "execution_count": 63,
   "id": "57a966db",
   "metadata": {},
   "outputs": [],
   "source": [
    "class Trabajo:\n",
    "    def __init__(self, nombre, horas_trabajadas, costo_hora):\n",
    "        self.nombre = nombre\n",
    "        self.horas_trabajadas = horas_trabajadas\n",
    "        self.costo_hora = costo_hora \n",
    "    \n",
    "    def valorPagado(self):\n",
    "        self.valor_pagado = self.horas_trabajadas*self.costo_hora\n",
    "    \n",
    "    def informe(self):\n",
    "        self.valorPagado()\n",
    "        return f' Nombre\\t\\t Horas Trabajadas\\t Valor Pagado\\t\\t\\n {self.nombre} \\t\\t {self.horas_trabajadas} \\t\\t\\t {self.valor_pagado} \\n'\n",
    "        "
   ]
  },
  {
   "cell_type": "code",
   "execution_count": 64,
   "id": "1996a94b",
   "metadata": {},
   "outputs": [
    {
     "name": "stdout",
     "output_type": "stream",
     "text": [
      " Nombre\t\t Horas Trabajadas\t Valor Pagado\t\t\n",
      " Eder \t\t 30 \t\t\t 3000000 \n",
      "\n"
     ]
    }
   ],
   "source": [
    "eder = Trabajo(nombre='Eder', horas_trabajadas=30, costo_hora=100000)\n",
    "print(eder.informe())"
   ]
  },
  {
   "cell_type": "markdown",
   "id": "51e525bc",
   "metadata": {},
   "source": [
    "5. Dadas las variables a y b, escribir un script que sea capaz de invertir sus valores. (1, 2), (2, 1)"
   ]
  },
  {
   "cell_type": "code",
   "execution_count": 7,
   "id": "63adab76",
   "metadata": {},
   "outputs": [
    {
     "name": "stdout",
     "output_type": "stream",
     "text": [
      "1\n",
      "b\n",
      "b 1\n"
     ]
    }
   ],
   "source": [
    "a = input()\n",
    "b = input()\n",
    "\n",
    "temp = a\n",
    "a = b\n",
    "b = temp\n",
    "\n",
    "print(a, b)"
   ]
  },
  {
   "cell_type": "code",
   "execution_count": 8,
   "id": "85f3a486",
   "metadata": {},
   "outputs": [],
   "source": [
    "mi_lista = [2,4,2,8,3,4,8,7,0,2,0,5]"
   ]
  },
  {
   "cell_type": "code",
   "execution_count": null,
   "id": "3739f642",
   "metadata": {},
   "outputs": [],
   "source": []
  }
 ],
 "metadata": {
  "kernelspec": {
   "display_name": "Python 3 (ipykernel)",
   "language": "python",
   "name": "python3"
  },
  "language_info": {
   "codemirror_mode": {
    "name": "ipython",
    "version": 3
   },
   "file_extension": ".py",
   "mimetype": "text/x-python",
   "name": "python",
   "nbconvert_exporter": "python",
   "pygments_lexer": "ipython3",
   "version": "3.11.4"
  }
 },
 "nbformat": 4,
 "nbformat_minor": 5
}

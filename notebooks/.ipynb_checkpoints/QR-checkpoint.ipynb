{
 "cells": [
  {
   "cell_type": "code",
   "execution_count": 6,
   "id": "cdbda353",
   "metadata": {},
   "outputs": [],
   "source": [
    "class Usuario:\n",
    "    \"\"\"\n",
    "    Clase que se encarga del manejo de usuarios\n",
    "    \"\"\"\n",
    "    def __init__(\n",
    "                self,\n",
    "                nombre,\n",
    "                fecha_nacimiento,\n",
    "                pais,\n",
    "                ciudad,\n",
    "                correo,\n",
    "                telefono\n",
    "                ):\n",
    "        self.nombre = nombre\n",
    "        self.fecha_nacimiento = fecha_nacimiento\n",
    "        self.pais = nombre\n",
    "        self.ciudad = ciudad\n",
    "        self.correo = correo\n",
    "        self.telefono = telefono\n",
    "        "
   ]
  },
  {
   "cell_type": "code",
   "execution_count": 7,
   "id": "9d113ceb",
   "metadata": {},
   "outputs": [],
   "source": [
    "class QR:\n",
    "    \"\"\"\n",
    "    Clase encargada del manejo de datos para el QR\n",
    "    \"\"\"\n",
    "    def __init__(\n",
    "                self,\n",
    "                motivo,\n",
    "                descripcion,\n",
    "                fecha,\n",
    "                usuario\n",
    "                ):\n",
    "        self.motivo = motivo\n",
    "        self.descripcion = descripcion\n",
    "        self.fecha = fecha\n",
    "        self.usuario = usuario"
   ]
  },
  {
   "cell_type": "code",
   "execution_count": 36,
   "id": "d33086b8",
   "metadata": {},
   "outputs": [],
   "source": [
    "class MiError(Exception):\n",
    "    \"\"\" Clase que crear el error \"\"\"\n",
    "    def __init__(self, mensaje):\n",
    "        self.mensaje = mensaje"
   ]
  },
  {
   "cell_type": "code",
   "execution_count": 38,
   "id": "4d9463e4",
   "metadata": {},
   "outputs": [
    {
     "name": "stdout",
     "output_type": "stream",
     "text": [
      "Creacion del usuario\n",
      "Nombre completo del usuario: \n",
      "Fecha de nacimiento (año mes dia)\n",
      "Pais del usuario: \n",
      "Ciudad del usuario: \n",
      "Correo del usuario: \n",
      "Telefono del usuario: \n",
      "El nombre, fecha de nacimiento, correo y telefono son campos obligatorias\n",
      "QR terminado\n",
      "None\n"
     ]
    }
   ],
   "source": [
    "user = crearQR()"
   ]
  },
  {
   "cell_type": "code",
   "execution_count": 38,
   "id": "941c9723",
   "metadata": {},
   "outputs": [
    {
     "name": "stdout",
     "output_type": "stream",
     "text": [
      "Creacion del usuario\n",
      "Nombre completo del usuario: \n",
      "Fecha de nacimiento (año mes dia)\n",
      "Pais del usuario: \n",
      "Ciudad del usuario: \n",
      "Correo del usuario: \n",
      "Telefono del usuario: \n",
      "El nombre, fecha de nacimiento, correo y telefono son campos obligatorias\n",
      "QR terminado\n",
      "None\n"
     ]
    }
   ],
   "source": [
    "user = registro()\n",
    "print(user)"
   ]
  },
  {
   "cell_type": "code",
   "execution_count": null,
   "id": "e118ed6e",
   "metadata": {},
   "outputs": [],
   "source": []
  },
  {
   "cell_type": "code",
   "execution_count": 38,
   "id": "8afa2519",
   "metadata": {},
   "outputs": [
    {
     "name": "stdout",
     "output_type": "stream",
     "text": [
      "Creacion del usuario\n",
      "Nombre completo del usuario: \n",
      "Fecha de nacimiento (año mes dia)\n",
      "Pais del usuario: \n",
      "Ciudad del usuario: \n",
      "Correo del usuario: \n",
      "Telefono del usuario: \n",
      "El nombre, fecha de nacimiento, correo y telefono son campos obligatorias\n",
      "QR terminado\n",
      "None\n"
     ]
    }
   ],
   "source": [
    "user = registro()\n",
    "print(user)"
   ]
  },
  {
   "cell_type": "code",
   "execution_count": 38,
   "id": "68bcd2f0",
   "metadata": {},
   "outputs": [
    {
     "name": "stdout",
     "output_type": "stream",
     "text": [
      "Creacion del usuario\n",
      "Nombre completo del usuario: \n",
      "Fecha de nacimiento (año mes dia)\n",
      "Pais del usuario: \n",
      "Ciudad del usuario: \n",
      "Correo del usuario: \n",
      "Telefono del usuario: \n",
      "El nombre, fecha de nacimiento, correo y telefono son campos obligatorias\n",
      "QR terminado\n",
      "None\n"
     ]
    }
   ],
   "source": [
    "user = registro()\n",
    "print(user)"
   ]
  }
 ],
 "metadata": {
  "kernelspec": {
   "display_name": "Python 3 (ipykernel)",
   "language": "python",
   "name": "python3"
  },
  "language_info": {
   "codemirror_mode": {
    "name": "ipython",
    "version": 3
   },
   "file_extension": ".py",
   "mimetype": "text/x-python",
   "name": "python",
   "nbconvert_exporter": "python",
   "pygments_lexer": "ipython3",
   "version": "3.11.4"
  }
 },
 "nbformat": 4,
 "nbformat_minor": 5
}

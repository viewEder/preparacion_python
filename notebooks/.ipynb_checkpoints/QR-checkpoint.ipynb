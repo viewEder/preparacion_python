{
 "cells": [
  {
   "cell_type": "code",
   "execution_count": 6,
   "id": "6357e5da",
   "metadata": {},
   "outputs": [],
   "source": [
    "class Usuario:\n",
    "    \"\"\"\n",
    "    Clase que se encarga del manejo de usuarios\n",
    "    \"\"\"\n",
    "    def __init__(\n",
    "                self,\n",
    "                nombre,\n",
    "                fecha_nacimiento,\n",
    "                pais,\n",
    "                ciudad,\n",
    "                correo,\n",
    "                telefono\n",
    "                ):\n",
    "        self.nombre = nombre\n",
    "        self.fecha_nacimiento = fecha_nacimiento\n",
    "        self.pais = nombre\n",
    "        self.ciudad = ciudad\n",
    "        self.correo = correo\n",
    "        self.telefono = telefono\n",
    "        "
   ]
  },
  {
   "cell_type": "code",
   "execution_count": 7,
   "id": "a34b1e27",
   "metadata": {},
   "outputs": [],
   "source": [
    "class QR:\n",
    "    \"\"\"\n",
    "    Clase encargada del manejo de datos para el QR\n",
    "    \"\"\"\n",
    "    def __init__(\n",
    "                self,\n",
    "                motivo,\n",
    "                descripcion,\n",
    "                fecha,\n",
    "                usuario\n",
    "                ):\n",
    "        self.motivo = motivo\n",
    "        self.descripcion = descripcion\n",
    "        self.fecha = fecha\n",
    "        self.usuario = usuario"
   ]
  },
  {
   "cell_type": "code",
   "execution_count": 8,
   "id": "60c56c90",
   "metadata": {},
   "outputs": [],
   "source": [
    "class MiError(Exception):\n",
    "    \"\"\" Clase que crear el error \"\"\"\n",
    "    def __init__(self, mensaje):\n",
    "        self.mensaje = mensaje"
   ]
  },
  {
   "cell_type": "code",
   "execution_count": 9,
   "id": "b38bf5ef",
   "metadata": {},
   "outputs": [],
   "source": [
    "def registro():\n",
    "    print('creacion del usuario: ')\n",
    "    nombre = input('Ingrese Nombre Completo del usuario: ')\n",
    "    fecha_nacimiento= input('Ingrese Fecha de nacimiento (año mes dia): ')\n",
    "    pais= input('Ingrese el Pais del usuario: ')\n",
    "    ciudad= input('Ingrese la Ciudad del usuario: ')\n",
    "    correo= input('Ingrese el correo del usuario: ')\n",
    "    telefono= input('Ingrese el telefono del usuario: ')\n",
    "\n",
    "    user = None\n",
    "    try:\n",
    "        if len(nombre)>=3 and len(fecha_nacimiento)>=3 and len(telefono)>=3 and len(correo)>=3:\n",
    "            user = Usuario(\n",
    "                            nombre = nombre,\n",
    "                            fecha_nacimiento = fecha_nacimiento,\n",
    "                            pais = pais,\n",
    "                            ciudad = ciudad,\n",
    "                            correo = correo,\n",
    "                            telefono = telefono\n",
    "                            )\n",
    "        else:\n",
    "            \"\"\" raise para crear una instancia\"\"\"\n",
    "            raise MiError('Los campos nombre, fecha de nacimiento, telefono son obligatorios')\n",
    "    except MiError as error:\n",
    "        print(error)\n",
    "    finally:\n",
    "\n",
    "        print('Creacion usuario exitosa')\n",
    "    return user"
   ]
  },
  {
   "cell_type": "code",
   "execution_count": 10,
   "id": "5dc3dfca",
   "metadata": {},
   "outputs": [],
   "source": [
    "from datetime import datetime\n",
    "\n",
    "def crearQR(user):\n",
    "    print('Creacion del QR')\n",
    "    motivo = input('Motivo de la QR: ')\n",
    "    descripcion = input('Descripcion del problema o solicitud: ')\n",
    "    fecha = datetime.now().strftime(\"%Y %m %d\")\n",
    "    usuario = user\n",
    "    \n",
    "    qr = None\n",
    "    \n",
    "    try:\n",
    "        if len(motivo)>=3 and len(descripcion)>=3:\n",
    "            qr = QR(motivo = motivo,\n",
    "                    descripcion = descripcion,\n",
    "                    fecha = fecha,\n",
    "                    usuario = usuario\n",
    "                   )\n",
    "        else:\n",
    "            raise MiError(\"Los campos motivo y descripcion\")\n",
    "    except MiError as error:\n",
    "        print(error)\n",
    "    finally:\n",
    "        print(\"Creacion QR exitosa\")\n",
    "    return qr"
   ]
  },
  {
   "cell_type": "code",
   "execution_count": null,
   "id": "bdfb9c12",
   "metadata": {},
   "outputs": [
    {
     "name": "stdout",
     "output_type": "stream",
     "text": [
      "creacion del usuario: \n",
      "Ingrese Nombre Completo del usuario: Diego\n",
      "Ingrese Fecha de nacimiento (año mes dia): 1999 12 31\n",
      "Ingrese el Pais del usuario: Colombia\n",
      "Ingrese la Ciudad del usuario: Medellin\n",
      "Ingrese el correo del usuario: Diego@view.com\n",
      "Ingrese el telefono del usuario: 3001234567\n",
      "Creacion usuario exitosa\n",
      "<__main__.Usuario object at 0x000002998A707850>\n",
      "Creacion del QR\n",
      "Motivo de la QR: Felicitacion\n"
     ]
    }
   ],
   "source": [
    "user = registro()\n",
    "print(user)\n",
    "\n",
    "qr = crearQR(user)\n",
    "print(qr)"
   ]
  },
  {
   "cell_type": "code",
   "execution_count": 12,
   "id": "d2a52389",
   "metadata": {},
   "outputs": [],
   "source": [
    "import csv"
   ]
  },
  {
   "cell_type": "code",
   "execution_count": 125,
   "id": "b294dba3",
   "metadata": {},
   "outputs": [
    {
     "name": "stdout",
     "output_type": "stream",
     "text": [
      "<_io.TextIOWrapper name='qr.csv' mode='w' encoding='cp1252'>\n"
     ]
    }
   ],
   "source": [
    "with open(f'qr.csv','w') as file:\n",
    "    x = csv.writer(file,\n",
    "                    delimiter=',',\n",
    "                    quoting=csv.QUOTE_NONNUMERIC\n",
    "                  )\n",
    "    print(file)\n",
    "    meter = [\n",
    "            qr.usuario.nombre,\n",
    "            qr.usuario.fecha_nacimiento,\n",
    "            qr.usuario.pais,\n",
    "            qr.usuario.ciudad,\n",
    "            qr.usuario.correo,\n",
    "            qr.usuario.telefono,\n",
    "            qr.motivo,\n",
    "            qr.descripcion,\n",
    "            qr.fecha\n",
    "            ]\n",
    "    x.writerow(meter)\n",
    "    "
   ]
  },
  {
   "cell_type": "code",
   "execution_count": 13,
   "id": "cd67809e",
   "metadata": {},
   "outputs": [],
   "source": [
    "campos = {\n",
    "    \"usuario\":qr.usuario.nombre,\n",
    "    \"fecha_nacimiento\":qr.usuario.fecha_nacimiento,\n",
    "    \"pais\":qr.usuario.pais,\n",
    "    \"ciudad\":qr.usuario.ciudad,\n",
    "    \"correo\":qr.usuario.correo,\n",
    "    \"telefono\":qr.usuario.telefono,\n",
    "    \"motivo\":qr.motivo,\n",
    "    \"descripcion\":qr.descripcion,\n",
    "    \"fecha\":qr.fecha\n",
    "}\n"
   ]
  },
  {
   "cell_type": "code",
   "execution_count": 25,
   "id": "e637c3f2",
   "metadata": {},
   "outputs": [],
   "source": [
    "with open('qr.csv', 'a', newline='', encoding='utf-8') as file:\n",
    "    new_entry = csv.DictWriter(file, fieldnames=campos.keys()) # Escribimos en la primera linea de file el contenido de campos.keys()\n",
    "    if file.tell()==0:\n",
    "        new_entry.writeheader()\n",
    "    new_entry.writerow(campos)"
   ]
  },
  {
   "cell_type": "code",
   "execution_count": 23,
   "id": "a4e57a95",
   "metadata": {},
   "outputs": [],
   "source": [
    "def verRegistros(qr):\n",
    "    df = pd.read_csv(f\"qr.csv\")\n",
    "    return df\n"
   ]
  },
  {
   "cell_type": "code",
   "execution_count": 42,
   "id": "58726ad3",
   "metadata": {},
   "outputs": [],
   "source": [
    "def verRegistrosv2(qr):\n",
    "    with open(f'qr.csv','r') as file:\n",
    "        leido = csv.reader(file)\n",
    "        for row in leido:\n",
    "            print(row)"
   ]
  },
  {
   "cell_type": "code",
   "execution_count": 43,
   "id": "b6d61708",
   "metadata": {},
   "outputs": [
    {
     "name": "stdout",
     "output_type": "stream",
     "text": [
      "['usuario', 'fecha_nacimiento', 'pais', 'ciudad', 'correo', 'telefono', 'motivo', 'descripcion', 'fecha']\n",
      "['Sebastian ', '2004 06 20', 'Sebastian ', 'Medellin', 'sebas2@view.edu', '3001234567', 'Queja', 'Los vecinos no recogen el producto de la digestiÃ³n de sus preciadas mascotas ', '2023 10 05']\n",
      "['Sebastian ', '2004 06 20', 'Sebastian ', 'Medellin', 'sebas2@view.edu', '3001234567', 'Queja', 'Los vecinos no recogen el producto de la digestiÃ³n de sus preciadas mascotas ', '2023 10 05']\n",
      "None\n"
     ]
    }
   ],
   "source": [
    "print(verRegistrosv2(qr))"
   ]
  },
  {
   "cell_type": "code",
   "execution_count": 44,
   "id": "8ef853fd",
   "metadata": {},
   "outputs": [
    {
     "name": "stdout",
     "output_type": "stream",
     "text": [
      "      usuario fecha_nacimiento        pais    ciudad           correo  \\\n",
      "0  Sebastian        2004 06 20  Sebastian   Medellin  sebas2@view.edu   \n",
      "1  Sebastian        2004 06 20  Sebastian   Medellin  sebas2@view.edu   \n",
      "\n",
      "     telefono motivo                                        descripcion  \\\n",
      "0  3001234567  Queja  Los vecinos no recogen el producto de la diges...   \n",
      "1  3001234567  Queja  Los vecinos no recogen el producto de la diges...   \n",
      "\n",
      "        fecha  \n",
      "0  2023 10 05  \n",
      "1  2023 10 05  \n"
     ]
    }
   ],
   "source": [
    "print(verRegistros(qr))"
   ]
  },
  {
   "cell_type": "code",
   "execution_count": 18,
   "id": "e45941cc",
   "metadata": {},
   "outputs": [],
   "source": [
    "import pandas as pd"
   ]
  }
 ],
 "metadata": {
  "kernelspec": {
   "display_name": "Python 3 (ipykernel)",
   "language": "python",
   "name": "python3"
  },
  "language_info": {
   "codemirror_mode": {
    "name": "ipython",
    "version": 3
   },
   "file_extension": ".py",
   "mimetype": "text/x-python",
   "name": "python",
   "nbconvert_exporter": "python",
   "pygments_lexer": "ipython3",
   "version": "3.11.4"
  }
 },
 "nbformat": 4,
 "nbformat_minor": 5
}

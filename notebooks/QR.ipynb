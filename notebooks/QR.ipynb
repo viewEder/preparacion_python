{
 "cells": [
  {
   "cell_type": "code",
   "execution_count": 79,
   "id": "7320882c",
   "metadata": {},
   "outputs": [],
   "source": [
    "class Usuario:\n",
    "    \"\"\"\n",
    "    Clase que se encarga del manejo de usuarios\n",
    "    \"\"\"\n",
    "    def __init__(\n",
    "                self,\n",
    "                nombre,\n",
    "                fecha_nacimiento,\n",
    "                pais,\n",
    "                ciudad,\n",
    "                correo,\n",
    "                telefono\n",
    "                ):\n",
    "        self.nombre = nombre\n",
    "        self.fecha_nacimiento = fecha_nacimiento\n",
    "        self.pais = nombre\n",
    "        self.ciudad = ciudad\n",
    "        self.correo = correo\n",
    "        self.telefono = telefono\n",
    "        "
   ]
  },
  {
   "cell_type": "code",
   "execution_count": 68,
   "id": "f5ed0a81",
   "metadata": {},
   "outputs": [],
   "source": [
    "class QR:\n",
    "    \"\"\"\n",
    "    Clase encargada del manejo de datos para el QR\n",
    "    \"\"\"\n",
    "    def __init__(\n",
    "                self,\n",
    "                motivo,\n",
    "                descripcion,\n",
    "                fecha,\n",
    "                usuario\n",
    "                ):\n",
    "        self.motivo = motivo\n",
    "        self.descripcion = descripcion\n",
    "        self.fecha = fecha\n",
    "        self.usuario = usuario"
   ]
  },
  {
   "cell_type": "code",
   "execution_count": 69,
   "id": "d5e9d889",
   "metadata": {},
   "outputs": [],
   "source": [
    "class MiError(Exception):\n",
    "    \"\"\" Clase que crear el error \"\"\"\n",
    "    def __init__(self, mensaje):\n",
    "        self.mensaje = mensaje"
   ]
  },
  {
   "cell_type": "code",
   "execution_count": 81,
   "id": "5659b51f",
   "metadata": {},
   "outputs": [],
   "source": [
    "def registro():\n",
    "    print('creacion del usuario: ')\n",
    "    nombre = input('Ingrese Nombre Completo del usuario: ')\n",
    "    fecha_nacimiento= input('Ingrese Fecha de nacimiento (año mes dia): ')\n",
    "    pais= input('Ingrese el Pais del usuario: ')\n",
    "    ciudad= input('Ingrese la Ciudad del usuario: ')\n",
    "    correo= input('Ingrese el correo del usuario: ')\n",
    "    telefono= input('Ingrese el telefono del usuario: ')\n",
    "\n",
    "    user = None\n",
    "    try:\n",
    "        if len(nombre)>=3 and len(fecha_nacimiento)>=3 and len(telefono)>=3 and len(correo)>=3:\n",
    "            user = Usuario(\n",
    "                            nombre = nombre,\n",
    "                            fecha_nacimiento = fecha_nacimiento,\n",
    "                            pais = pais,\n",
    "                            ciudad = ciudad,\n",
    "                            correo = correo,\n",
    "                            telefono = telefono\n",
    "                            )\n",
    "        else:\n",
    "            \"\"\" raise para crear una instancia\"\"\"\n",
    "            raise MiError('Los campos nombre, fecha de nacimiento, telefono son obligatorios')\n",
    "    except MiError as error:\n",
    "        print(error)\n",
    "    finally:\n",
    "\n",
    "        print('Creacion usuario exitosa')\n",
    "    return user"
   ]
  },
  {
   "cell_type": "code",
   "execution_count": 85,
   "id": "ca7d913d",
   "metadata": {},
   "outputs": [],
   "source": [
    "from datetime import datetime\n",
    "\n",
    "def crearQR(user):\n",
    "    print('Creacion del QR')\n",
    "    motivo = input('Motivo de la QR: ')\n",
    "    descripcion = input('Descripcion del problema o solicitud: ')\n",
    "    fecha = datetime.now().strftime(\"%Y %m %d\")\n",
    "    usuario = user\n",
    "    \n",
    "    qr = None\n",
    "    \n",
    "    try:\n",
    "        if len(motivo)>=3 and len(descripcion)>=3:\n",
    "            qr = QR(motivo = motivo,\n",
    "                    descripcion = descripcion,\n",
    "                    fecha = fecha,\n",
    "                    usuario = usuario\n",
    "                   )\n",
    "        else:\n",
    "            raise MiError(\"Los campos motivo y descripcion\")\n",
    "    except MiError as error:\n",
    "        print(error)\n",
    "    finally:\n",
    "        print(\"Creacion QR exitosa\")\n",
    "    return qr"
   ]
  },
  {
   "cell_type": "code",
   "execution_count": 86,
   "id": "f7997ccf",
   "metadata": {},
   "outputs": [
    {
     "name": "stdout",
     "output_type": "stream",
     "text": [
      "creacion del usuario: \n",
      "Ingrese Nombre Completo del usuario: Sebas\n",
      "Ingrese Fecha de nacimiento (año mes dia): 2004 06 20\n",
      "Ingrese el Pais del usuario: Colombia\n",
      "Ingrese la Ciudad del usuario: Medellin\n",
      "Ingrese el correo del usuario: sebas@mail.com\n",
      "Ingrese el telefono del usuario: 3001234567\n",
      "Creacion usuario exitosa\n",
      "<__main__.Usuario object at 0x00000234D222F710>\n",
      "Creacion del QR\n",
      "Motivo de la QR: popo\n",
      "Descripcion del problema o solicitud: no recogen el resultado de la digestion de sus mascotas\n",
      "Creacion QR exitosa\n",
      "<__main__.QR object at 0x00000234D277E4D0>\n"
     ]
    }
   ],
   "source": [
    "user = registro()\n",
    "print(user)\n",
    "\n",
    "qr = crearQR(user)\n",
    "print(qr)"
   ]
  },
  {
   "cell_type": "code",
   "execution_count": 111,
   "id": "2ec8746d",
   "metadata": {},
   "outputs": [],
   "source": [
    "import csv"
   ]
  },
  {
   "cell_type": "code",
   "execution_count": 122,
   "id": "cf305d45",
   "metadata": {},
   "outputs": [
    {
     "ename": "UnsupportedOperation",
     "evalue": "not readable",
     "output_type": "error",
     "traceback": [
      "\u001b[1;31m---------------------------------------------------------------------------\u001b[0m",
      "\u001b[1;31mUnsupportedOperation\u001b[0m                      Traceback (most recent call last)",
      "Cell \u001b[1;32mIn[122], line 6\u001b[0m\n\u001b[0;32m      1\u001b[0m \u001b[38;5;28;01mwith\u001b[39;00m \u001b[38;5;28mopen\u001b[39m(\u001b[38;5;124mf\u001b[39m\u001b[38;5;124m'\u001b[39m\u001b[38;5;124mqr.csv\u001b[39m\u001b[38;5;124m'\u001b[39m,\u001b[38;5;124m'\u001b[39m\u001b[38;5;124mw\u001b[39m\u001b[38;5;124m'\u001b[39m) \u001b[38;5;28;01mas\u001b[39;00m file:\n\u001b[0;32m      2\u001b[0m     x \u001b[38;5;241m=\u001b[39m csv\u001b[38;5;241m.\u001b[39mwriter(file,\n\u001b[0;32m      3\u001b[0m                     delimiter\u001b[38;5;241m=\u001b[39m\u001b[38;5;124m'\u001b[39m\u001b[38;5;124m,\u001b[39m\u001b[38;5;124m'\u001b[39m,\n\u001b[0;32m      4\u001b[0m                     quoting\u001b[38;5;241m=\u001b[39mcsv\u001b[38;5;241m.\u001b[39mQUOTE_NONNUMERIC\n\u001b[0;32m      5\u001b[0m                   )\n\u001b[1;32m----> 6\u001b[0m     file \u001b[38;5;241m=\u001b[39m file\u001b[38;5;241m.\u001b[39mreadlines()\n\u001b[0;32m      7\u001b[0m     \u001b[38;5;28mprint\u001b[39m(file)\n\u001b[0;32m      8\u001b[0m     meter \u001b[38;5;241m=\u001b[39m [\n\u001b[0;32m      9\u001b[0m             qr\u001b[38;5;241m.\u001b[39musuario\u001b[38;5;241m.\u001b[39mnombre,\n\u001b[0;32m     10\u001b[0m             qr\u001b[38;5;241m.\u001b[39musuario\u001b[38;5;241m.\u001b[39mfecha_nacimiento,\n\u001b[1;32m   (...)\u001b[0m\n\u001b[0;32m     17\u001b[0m             qr\u001b[38;5;241m.\u001b[39mfecha\n\u001b[0;32m     18\u001b[0m             ]\n",
      "\u001b[1;31mUnsupportedOperation\u001b[0m: not readable"
     ]
    }
   ],
   "source": [
    "with open(f'qr.csv','w') as file:\n",
    "    x = csv.writer(file,\n",
    "                    delimiter=',',\n",
    "                    quoting=csv.QUOTE_NONNUMERIC\n",
    "                  )\n",
    "    file = file.readlines()\n",
    "    print(file)\n",
    "    meter = [\n",
    "            qr.usuario.nombre,\n",
    "            qr.usuario.fecha_nacimiento,\n",
    "            qr.usuario.pais,\n",
    "            qr.usuario.ciudad,\n",
    "            qr.usuario.correo,\n",
    "            qr.usuario.telefono,\n",
    "            qr.motivo,\n",
    "            qr.descripcion,\n",
    "            qr.fecha\n",
    "            ]\n",
    "    x.writerow(meter)\n",
    "    "
   ]
  },
  {
   "cell_type": "code",
   "execution_count": 115,
   "id": "bb9f03e8",
   "metadata": {},
   "outputs": [],
   "source": [
    "with open('qr.csv', 'w') as file:\n",
    "    x = csv.writer(file,\n",
    "                    delimiter=',',\n",
    "                    quoting=csv.QUOTE_NONNUMERIC\n",
    "                  )\n",
    "    campos = [\"usuario\", \"fecha_nacimiento\", \"pais\", \"ciudad\", \"correo\", \"telefono\", \"motivo\", \"descripcion\", \"fecha\"]\n",
    "    \n",
    "    x.writerow(campos)"
   ]
  },
  {
   "cell_type": "code",
   "execution_count": 116,
   "id": "bc8f63d7",
   "metadata": {},
   "outputs": [],
   "source": [
    "def verRegistros(qr):\n",
    "#     with open(f'{qr.usuario.nombre}.json','r') as file:\n",
    "#             file = json.load(file)\n",
    "    df = pd.read_csv(f\"qr.csv\")\n",
    "    return df\n"
   ]
  },
  {
   "cell_type": "code",
   "execution_count": 121,
   "id": "96a29dca",
   "metadata": {},
   "outputs": [
    {
     "name": "stdout",
     "output_type": "stream",
     "text": [
      "Empty DataFrame\n",
      "Columns: [Sebas, 2004 06 20, Sebas.1, Medellin, sebas@mail.com, 3001234567, popo, no recogen el resultado de la digestion de sus mascotas, 2023 10 04]\n",
      "Index: []\n"
     ]
    }
   ],
   "source": [
    "print(verRegistros(qr))"
   ]
  },
  {
   "cell_type": "code",
   "execution_count": 103,
   "id": "58f6fe35",
   "metadata": {},
   "outputs": [],
   "source": [
    "import pandas as pd"
   ]
  }
 ],
 "metadata": {
  "kernelspec": {
   "display_name": "Python 3 (ipykernel)",
   "language": "python",
   "name": "python3"
  },
  "language_info": {
   "codemirror_mode": {
    "name": "ipython",
    "version": 3
   },
   "file_extension": ".py",
   "mimetype": "text/x-python",
   "name": "python",
   "nbconvert_exporter": "python",
   "pygments_lexer": "ipython3",
   "version": "3.11.4"
  }
 },
 "nbformat": 4,
 "nbformat_minor": 5
}

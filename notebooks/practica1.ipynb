{
 "cells": [
  {
   "cell_type": "markdown",
   "metadata": {},
   "source": [
    "# APLICACION PQRSF\n",
    "\n",
    "Vamos a construir una aplicación que se encargue de recibir las quejas y reclamos\n",
    "de los usuarios en una interfaz de consola. \n",
    "\n",
    "Los Usuarios deben tener los sig atributos:\n",
    "    Nombre Completo         not null\n",
    "    Fecha de Nacimiento     not null\n",
    "    Pais                \n",
    "    Ciudad\n",
    "    Correo Electrónico      not null\n",
    "    Teléfono                not null \n",
    "\n",
    "El PQRSF tiene la sig estructura: \n",
    "\n",
    "    Motivo: P,Q,R,S,F,      not null\n",
    "    Descripción del Problema o Solicitud  not null\n",
    "    fecha y hora de recepción del PQRSF\n",
    "    ususario que pone la queja \n",
    "\n",
    "En un momento dado se debe contar con un registro de PQRSF,"
   ]
  },
  {
   "cell_type": "code",
   "execution_count": 2,
   "metadata": {},
   "outputs": [],
   "source": [
    "class Usuario:\n",
    "    \"\"\"\n",
    "    Clase que se encarga del manejo de usuario\n",
    "    \"\"\"\n",
    "\n",
    "    def __init__(self, nombre, fecha_nacimiento, pais, ciudad, email, telefono):\n",
    "        self.nombre= nombre\n",
    "        self.fecha_nacimiento= fecha_nacimiento\n",
    "        self.pais= pais\n",
    "        self.ciudad= ciudad\n",
    "        self.email= email\n",
    "        self.telefono= telefono\n",
    "\n",
    "class PQR:\n",
    "    def __init__(self,motivo,descripcion, fechacreacion, usuario):\n",
    "        self.motivo = motivo\n",
    "        self.descripcion = descripcion\n",
    "        self.fechacreacion = fechacreacion\n",
    "        self.usuario = usuario\n"
   ]
  },
  {
   "cell_type": "code",
   "execution_count": 11,
   "metadata": {},
   "outputs": [],
   "source": [
    "class miError(Exception):\n",
    "    def __init__(self, message):\n",
    "        self.message = message\n",
    "\n",
    "def registro():\n",
    "    print('Registrar usuario')\n",
    "    nombre = input('Nombre: ')\n",
    "    fecha_nacimiento = input('Fecha de nacimiento: ')\n",
    "    pais = input('Pais: ')\n",
    "    ciudad = input('Ciudad: ')\n",
    "    email = input('Email: ')\n",
    "    telefono = input('Telefono: ')\n",
    "\n",
    "    try:\n",
    "        if (len(nombre)>=3 and len(fecha_nacimiento)>=3 and len(pais)>=3 and len(ciudad)>=3 and len(email)>3):\n",
    "            usuario = Usuario(nombre, fecha_nacimiento, pais, ciudad, email, telefono)\n",
    "        else:\n",
    "            usuario = None\n",
    "            raise miError('Los valores no pueden ser menores a 3 letras')\n",
    "    except miError as e:\n",
    "        print(e)\n",
    "    finally:\n",
    "        print('Se termino la creacion de usuario')\n",
    "\n",
    "    return usuario"
   ]
  },
  {
   "cell_type": "code",
   "execution_count": 12,
   "metadata": {},
   "outputs": [
    {
     "name": "stdout",
     "output_type": "stream",
     "text": [
      "Registrar usuario\n",
      "Error al registrar usuario\n",
      "Se termino la creacion de usuario\n",
      "None\n"
     ]
    }
   ],
   "source": [
    "user = registro()\n",
    "print(user)"
   ]
  }
 ],
 "metadata": {
  "kernelspec": {
   "display_name": "Python 3",
   "language": "python",
   "name": "python3"
  },
  "language_info": {
   "codemirror_mode": {
    "name": "ipython",
    "version": 3
   },
   "file_extension": ".py",
   "mimetype": "text/x-python",
   "name": "python",
   "nbconvert_exporter": "python",
   "pygments_lexer": "ipython3",
   "version": "3.12.0"
  },
  "orig_nbformat": 4
 },
 "nbformat": 4,
 "nbformat_minor": 2
}

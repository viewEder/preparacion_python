{
 "cells": [
  {
   "cell_type": "markdown",
   "metadata": {},
   "source": [
    "### Enumerate y sorted, mriar en la documentación"
   ]
  },
  {
   "cell_type": "code",
   "execution_count": 2,
   "metadata": {},
   "outputs": [
    {
     "data": {
      "text/plain": [
       "[-12, -5, -4, -4, -2, -2, 0, 2, 2, 2, 4, 8]"
      ]
     },
     "execution_count": 2,
     "metadata": {},
     "output_type": "execute_result"
    }
   ],
   "source": [
    "other_list = [-12, -5, 4, 2, 0, -4, -2, 8, -2, 2, -4, 2]\n",
    "def ordenar_positivos(lista):\n",
    "    lista.sort()\n",
    "    return lista\n",
    "ordenar_positivos(other_list)"
   ]
  },
  {
   "cell_type": "markdown",
   "metadata": {},
   "source": [
    "### Using set"
   ]
  },
  {
   "cell_type": "code",
   "execution_count": null,
   "metadata": {},
   "outputs": [],
   "source": [
    "# Escribe una script que reciba como entrada por teclado un secuencia de palabras separadas por espacios y devuelva una lista con las palabras ordenadas alfabéticamente.\n",
    "def ordenar_palabras():\n",
    "    lista = set(input(\"Introduce una lista de palabras separadas por espacios: \").split())\n",
    "    lista.sortd()\n",
    "    return lista"
   ]
  }
 ],
 "metadata": {
  "kernelspec": {
   "display_name": "myenv",
   "language": "python",
   "name": "python3"
  },
  "language_info": {
   "codemirror_mode": {
    "name": "ipython",
    "version": 3
   },
   "file_extension": ".py",
   "mimetype": "text/x-python",
   "name": "python",
   "nbconvert_exporter": "python",
   "pygments_lexer": "ipython3",
   "version": "3.11.5"
  },
  "orig_nbformat": 4
 },
 "nbformat": 4,
 "nbformat_minor": 2
}

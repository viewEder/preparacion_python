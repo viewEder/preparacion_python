{
 "cells": [
  {
   "cell_type": "markdown",
   "metadata": {},
   "source": [
    "#### Crear una aplicación que se encargue de recibir las quejas y reclamos de los usuarios en una interfaz de consola. Los usuarios deben tener los siguientes atributos: \n",
    "* Nombre completo\n",
    "* Fecha de nacimiento \n",
    "* País \n",
    "* Ciudad \n",
    "* Email \n",
    "* Teléfono"
   ]
  },
  {
   "cell_type": "markdown",
   "metadata": {},
   "source": [
    "##### Añadir los modulos necesarios para que el usuario pueda ingresar los datos y almacenarlos en un archivo de json."
   ]
  },
  {
   "cell_type": "code",
   "execution_count": 1,
   "metadata": {},
   "outputs": [],
   "source": [
    "import sys\n",
    "import os\n",
    "\n",
    "DIRECTORIO_ACTUAL = \"/\".join(os.getcwd().split(\"/\")[:-1])\n",
    "sys.path.insert(0, f\"{DIRECTORIO_ACTUAL}/models\")\n",
    "sys.path.insert(0, f\"{DIRECTORIO_ACTUAL}/utils\")"
   ]
  },
  {
   "cell_type": "markdown",
   "metadata": {},
   "source": [
    "##### Llamada de función agregar pqrsf para agregar una nueva queja o reclamo a la lista de pqrsf en el archivo files/pqrsf.json"
   ]
  },
  {
   "cell_type": "code",
   "execution_count": null,
   "metadata": {},
   "outputs": [],
   "source": [
    "from helpers import agregar_pqrsf, mostrar_pqrsf\n",
    "\n",
    "if agregar_pqrsf():\n",
    "    mostrar_pqrsf()\n",
    "else:\n",
    "    print(\"Hubo un error en la creación en los PQRS\")\n"
   ]
  },
  {
   "cell_type": "code",
   "execution_count": null,
   "metadata": {},
   "outputs": [],
   "source": [
    "from helpers import agregar_pqrsf, mostrar_pqrsf\n",
    "mostrar_pqrsf()"
   ]
  }
 ],
 "metadata": {
  "kernelspec": {
   "display_name": "myenv",
   "language": "python",
   "name": "python3"
  },
  "language_info": {
   "codemirror_mode": {
    "name": "ipython",
    "version": 3
   },
   "file_extension": ".py",
   "mimetype": "text/x-python",
   "name": "python",
   "nbconvert_exporter": "python",
   "pygments_lexer": "ipython3",
   "version": "3.11.5"
  },
  "orig_nbformat": 4
 },
 "nbformat": 4,
 "nbformat_minor": 2
}

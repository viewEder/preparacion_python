{
 "cells": [
  {
   "cell_type": "markdown",
   "metadata": {},
   "source": [
    "La empresa EmpleaFondo, es un fondo de empleados, \n",
    "Este fondo de empleados necesita un aplicativo que se encargue de:\n",
    "\n",
    "Registrar usuarios:\n",
    "\tLinea Base de Usuario (\n",
    "\t\t\t\t* Datos básicos (incluye fecha nacimiento, sexo, nombres, apellidos, estado_civil)\n",
    "\t\t\t\t* fecha de ingreso a la empresa donde labora\n",
    "\t\t\t\t* cargo\n",
    "\t\t\t\t* Método calcular edad\n",
    "\t\t\t\t* Método para calcular tiempo en la empresa\n",
    "\t\t\t\t)\n",
    "El fondo tiene un core de créditos (módulo):\n",
    "\tLinea de Crédito (Libranza, Libre Inversión, Compra de Cartera, Vivienda)\n",
    "\tCondiciones por linea de crédito:\n",
    "\t\t\t- Libranza = Máx: 2'000.000, plazo: 10 meses, intereses: 12 % Efectivo Anual\n",
    "\t\t\t- Libre Inversión = Máx: 10 veces lo ahorrado, plazo: 72 meses, intereses: 12 % Efectivo Anual\n",
    "\t\t\t- Compra Cartera = Máx 12 veces lo ahorrado + 1 sueldo del empleado, intereses: 12 % Efectivo Anual\n",
    "\t\t\t- Vivienda = Máx 150 Salarios Minimos Colombianos, plazo: 180 meses, intereses: 12 % Efectivo Anual\n",
    "\t\t\t- Cargo Administrativo = 5% del total del préstamo\n",
    "\tPréstamos:\n",
    "\t\t\t- Deudor\n",
    "\t\t\t- Monto\n",
    "\t\t\t- Plazo\n",
    "\t\t\t- Intereses\n",
    "\t\t\t- Método Abonar a la deuda y disminuir el capital\n",
    "\n",
    "El core de Fondo:\n",
    "\tLinea base de usuarios registrados:\n",
    "\t\t\t- fecha de registro en el fondo\n",
    "\t\t\t- Salario de usuario\n",
    "\t\t\t- Método Tiempo en el fondo\n",
    "\t\t\t- Cuota mensual (2023: 50.000)\n",
    "\t\t\t- Método para calcular los aportes al fondo\n",
    "\n",
    "Todos los objetos que resulten de cada clase del módulo se registran en archivos csv.\n",
    "\n",
    "Informes:\n",
    "Informe de Usuarios del fondo:\n",
    "Nombre, Apellidos, Edad, Cargo, Tiempo en meses en la empresa, Tiempo en meses en el fondo\n",
    "\n",
    "Informe Créditos:\n",
    "Deudor (Nombres y apellidos), Valor Inicial del préstamo, Total Pagado, Saldo Actual"
   ]
  },
  {
   "cell_type": "code",
   "execution_count": 41,
   "metadata": {},
   "outputs": [],
   "source": [
    "from datetime import datetime as dt \n",
    "\n",
    "class Usuario:\n",
    "\n",
    "    def __init__(self, nombres, apellidos, email, telefono, estado_civil, fecha_nacimiento, fecha_ingreso, genero, cargo):\n",
    "        self.nombres = nombres\n",
    "        self.apellidos = apellidos\n",
    "        self.email = email\n",
    "        self.telefono = telefono\n",
    "        self.estado_civil = estado_civil\n",
    "        self.fecha_nacimiento = fecha_nacimiento\n",
    "        self.fecha_ingreso = fecha_ingreso\n",
    "        self.genero = genero\n",
    "        self.cargo = cargo\n",
    "    \n",
    "    def calcula_edad(self):\n",
    "        try:\n",
    "            birth = dt.strptime(self.fecha_nacimiento, \"%Y-%m-%d\")\n",
    "            ahora = dt.now()\n",
    "            diff = (ahora - birth).days /365\n",
    "            edad = int(diff) \n",
    "\n",
    "            #print(ahora)\n",
    "            # if ahora.month<= birth.month and ahora.day<= birth.day:\n",
    "            #     edad  = (ahora.year - 1) - birth.year\n",
    "            # else:\n",
    "            #     edad = ahora.year - birth.year\n",
    "        except:\n",
    "            edad = \"NA\"\n",
    "        return edad\n",
    "    \n",
    "    def cuantos_meses(self):\n",
    "        ingreso = dt.strptime(self.fecha_ingreso, \"%Y-%m-%d\")\n",
    "        ahora = dt.now()\n",
    "        if (ingreso.day <= ahora.day):\n",
    "            total_meses = (ahora.year - ingreso.year)*12 + (ahora.month  - ingreso.month) - 1\n",
    "        else:\n",
    "            total_meses = (ahora.year - ingreso.year)*12 + (ahora.month  - ingreso.month)\n",
    "            \n",
    "        return total_meses\n",
    "\n",
    "\n"
   ]
  },
  {
   "cell_type": "code",
   "execution_count": 42,
   "metadata": {},
   "outputs": [
    {
     "name": "stdout",
     "output_type": "stream",
     "text": [
      "31 21\n"
     ]
    }
   ],
   "source": [
    "victor = Usuario(\"Victor Miguel\", \"Espitia Gonzalez\", \"sherlock@example.com\", \" 3255555555\", \"Comprometido\", \"1991-12-01\", \"2022-01-15\", \"Masculino\", \"Desarrollador FrontEnd\")\n",
    "print(victor.calcula_edad(), victor.cuantos_meses())\n"
   ]
  },
  {
   "cell_type": "code",
   "execution_count": null,
   "metadata": {},
   "outputs": [],
   "source": [
    "class Creditos:\n",
    "    def __init__(self, valor, interes, plazo):    \n",
    "        self.valor = valor\n",
    "\n",
    "    def interes(self):\n",
    "        return self.valor"
   ]
  }
 ],
 "metadata": {
  "kernelspec": {
   "display_name": "Python 3",
   "language": "python",
   "name": "python3"
  },
  "language_info": {
   "codemirror_mode": {
    "name": "ipython",
    "version": 3
   },
   "file_extension": ".py",
   "mimetype": "text/x-python",
   "name": "python",
   "nbconvert_exporter": "python",
   "pygments_lexer": "ipython3",
   "version": "3.12.0"
  }
 },
 "nbformat": 4,
 "nbformat_minor": 2
}

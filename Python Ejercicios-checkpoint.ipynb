{
 "cells": [
  {
   "cell_type": "markdown",
   "id": "43783a08",
   "metadata": {},
   "source": [
    "# Ejercicios - Básico"
   ]
  },
  {
   "cell_type": "markdown",
   "id": "f70d50ff",
   "metadata": {},
   "source": [
    "1. Escribir un programa que solicite información básica"
   ]
  },
  {
   "cell_type": "code",
   "execution_count": null,
   "id": "0b3c5c71",
   "metadata": {},
   "outputs": [],
   "source": [
    "# Ejercicio 1 \n",
    "nombre = input(\"Ingrese su nombre: \")\n",
    "edad = input(\"Ingrese su edad: \")\n",
    "direccion = input(\"Ingrese su dirección: \")\n",
    "\n",
    "# Mostrar la información ingresada\n",
    "print(\"\\nInformación ingresada:\")\n",
    "print(\"Nombre: \", nombre)\n",
    "print(\"Edad: \", edad)\n",
    "print(\"Dirección: \", direccion)"
   ]
  },
  {
   "cell_type": "code",
   "execution_count": null,
   "id": "4f4b9381",
   "metadata": {},
   "outputs": [],
   "source": [
    "# Ejercicio 2\n",
    "\n",
    "# Solicitar la altura en metros\n",
    "altura = float(input(\"Ingrese su altura en metros: \"))\n",
    "\n",
    "# Solicitar el peso en kilogramos\n",
    "peso = float(input(\"Ingrese su peso en kilogramos: \"))\n",
    "\n",
    "# Calcular el IMC\n",
    "imc = peso / (altura ** 2)\n",
    "\n",
    "# Mostrar el resultado del IMC\n",
    "print(\"\\nSu Índice de Masa Corporal (IMC) es:\", imc)\n",
    "\n",
    "# Interpretar el IMC\n",
    "if imc < 18.5:\n",
    "    print(\"Está bajo peso.\")\n",
    "elif imc >= 18.5 and imc < 24.9:\n",
    "    print(\"Tiene un peso saludable.\")\n",
    "elif imc >= 25 and imc < 29.9:\n",
    "    print(\"Tiene sobrepeso.\")\n",
    "else:\n",
    "    print(\"Tiene obesidad.\")"
   ]
  },
  {
   "cell_type": "code",
   "execution_count": null,
   "id": "1fd10398",
   "metadata": {},
   "outputs": [],
   "source": [
    "# Ejercicio 3\n",
    "# Solicitar al usuario un número entero positivo\n",
    "while True:\n",
    "    try:\n",
    "        nume = int(input(\"Ingrese un número entero positivo: \"))\n",
    "        if nume > 0:\n",
    "            break\n",
    "        else:\n",
    "            print(\"Por favor, ingrese un número entero positivo.\")\n",
    "    except ValueError:\n",
    "        print(\"Por favor, ingrese un número entero válido.\")\n",
    "\n",
    "# Calcular la suma usando la fórmula\n",
    "suma = (nume * (nume + 1)) // 2\n",
    "\n",
    "# Mostrar la suma\n",
    "print(f\"La suma de los números desde 1 hasta {nume} es: {suma}\")"
   ]
  },
  {
   "cell_type": "code",
   "execution_count": null,
   "id": "adf6bd1c",
   "metadata": {},
   "outputs": [],
   "source": [
    "# Ejercicio 4 \n",
    "\n",
    "# Solicitar información al usuario\n",
    "nombre = input(\"Ingrese su nombre: \")\n",
    "codigo = input(\"Ingrese su código de empleado: \")\n",
    "horas_trabajadas = float(input(\"Ingrese las horas trabajadas: \"))\n",
    "costo_por_hora = float(input(\"Ingrese el costo por hora trabajada: \"))\n",
    "\n",
    "# Calcular el salario\n",
    "salario = horas_trabajadas * costo_por_hora\n",
    "\n",
    "# Mostrar el informe en pantalla\n",
    "print(\"\\nInformación del empleado:\")\n",
    "print(\"Nombre: \", nombre)\n",
    "print(\"Código de empleado: \", codigo)\n",
    "print(\"Horas trabajadas: \", horas_trabajadas)\n",
    "print(\"Valor pagado: $\", salario)"
   ]
  }
 ],
 "metadata": {
  "kernelspec": {
   "display_name": "Python 3 (ipykernel)",
   "language": "python",
   "name": "python3"
  },
  "language_info": {
   "codemirror_mode": {
    "name": "ipython",
    "version": 3
   },
   "file_extension": ".py",
   "mimetype": "text/x-python",
   "name": "python",
   "nbconvert_exporter": "python",
   "pygments_lexer": "ipython3",
   "version": "3.11.4"
  }
 },
 "nbformat": 4,
 "nbformat_minor": 5
}
